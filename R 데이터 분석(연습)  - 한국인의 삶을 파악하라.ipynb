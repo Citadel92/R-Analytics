{
 "cells": [
  {
   "cell_type": "markdown",
   "metadata": {},
   "source": [
    "# 데이터 분석 준비하기"
   ]
  },
  {
   "cell_type": "markdown",
   "metadata": {},
   "source": [
    "* 데이터 출처 : https://github.com/youngwoos/Doit_R/#91\n",
    "* 정리 : "
   ]
  },
  {
   "cell_type": "markdown",
   "metadata": {},
   "source": [
    "# 패키지 설치 및 로드하기"
   ]
  },
  {
   "cell_type": "code",
   "execution_count": 1,
   "metadata": {},
   "outputs": [
    {
     "name": "stderr",
     "output_type": "stream",
     "text": [
      "Warning message:\n",
      "\"package 'foreign' is not available (for R version 3.6.1)\""
     ]
    }
   ],
   "source": [
    "install.packages(\"foreign\")"
   ]
  },
  {
   "cell_type": "code",
   "execution_count": 2,
   "metadata": {},
   "outputs": [
    {
     "name": "stderr",
     "output_type": "stream",
     "text": [
      "Warning message:\n",
      "\"package 'foreign' is not available (for R version 3.6.1)\"\n",
      "Attaching package: 'dplyr'\n",
      "\n",
      "The following objects are masked from 'package:stats':\n",
      "\n",
      "    filter, lag\n",
      "\n",
      "The following objects are masked from 'package:base':\n",
      "\n",
      "    intersect, setdiff, setequal, union\n",
      "\n",
      "Registered S3 methods overwritten by 'ggplot2':\n",
      "  method         from \n",
      "  [.quosures     rlang\n",
      "  c.quosures     rlang\n",
      "  print.quosures rlang\n"
     ]
    }
   ],
   "source": [
    "# 패키지 설치\n",
    "install.packages(\"foreign\")\n",
    "\n",
    "# 로드하기\n",
    "library(foreign) # SPSS 파일 불러오기\n",
    "library(dplyr)    # 전처리\n",
    "library(ggplot2) # 시각화\n",
    "library(readxl)  # 엑셀 파일 불러오기\n"
   ]
  },
  {
   "cell_type": "markdown",
   "metadata": {},
   "source": [
    "# 데이터 불러오기"
   ]
  },
  {
   "cell_type": "code",
   "execution_count": 3,
   "metadata": {},
   "outputs": [
    {
     "name": "stderr",
     "output_type": "stream",
     "text": [
      "Warning message in read.spss(file = \"Koweps_hpc10_2015_beta1.sav\", to.data.frame = T):\n",
      "\"Koweps_hpc10_2015_beta1.sav: Compression bias (0) is not the usual value of 100\""
     ]
    }
   ],
   "source": [
    "# 데이터 불러오기\n",
    "raw_welfare <- read.spss(file='Koweps_hpc10_2015_beta1.sav',\n",
    "                        to.data.frame = T)    # to.data.frame = T  SPSS 파일을 데이터 프레임 형태로 변환하는 기능\n",
    "\n",
    "# 복사본 만들기\n",
    "welfare <- raw_welfare\n"
   ]
  },
  {
   "cell_type": "code",
   "execution_count": 4,
   "metadata": {},
   "outputs": [],
   "source": [
    "welfare <- rename(welfare, sex = h10_g3, birth = h10_g4, marriage = h10_g10, religion = h10_g11, income = p1002_8aq1, code_job = h10_eco9, code_region = h10_reg7)\n"
   ]
  },
  {
   "cell_type": "markdown",
   "metadata": {},
   "source": [
    "# 데이터 분석 절차\n",
    "\n",
    "1단계 : 변수 검토 및 전처리  \n",
    "- 변수의 특성을 파악하고 이상치를 정제한 다음 파생변수 만들기  \n",
    "  \n",
    "2단계 : 변수 간 관계 분석  \n",
    "- 데이터를 요약한 표를 만든 후 분석 결과를 쉽게 이해할 수 있는 그래프 만들기"
   ]
  },
  {
   "cell_type": "code",
   "execution_count": 5,
   "metadata": {},
   "outputs": [
    {
     "data": {
      "text/html": [
       "'numeric'"
      ],
      "text/latex": [
       "'numeric'"
      ],
      "text/markdown": [
       "'numeric'"
      ],
      "text/plain": [
       "[1] \"numeric\""
      ]
     },
     "metadata": {},
     "output_type": "display_data"
    }
   ],
   "source": [
    "# 변수 검토하기\n",
    "class(welfare$sex)\n",
    "# class() = 변수의 타입을 확인하는 함수\n"
   ]
  },
  {
   "cell_type": "code",
   "execution_count": 6,
   "metadata": {},
   "outputs": [
    {
     "data": {
      "text/plain": [
       "\n",
       "   1    2 \n",
       "7578 9086 "
      ]
     },
     "metadata": {},
     "output_type": "display_data"
    }
   ],
   "source": [
    "# 이상치 확인\n",
    "table(welfare$sex)"
   ]
  },
  {
   "cell_type": "code",
   "execution_count": 7,
   "metadata": {},
   "outputs": [
    {
     "data": {
      "image/png": "[encoded data removed]",
      "text/plain": [
       "plot without title"
      ]
     },
     "metadata": {},
     "output_type": "display_data"
    }
   ],
   "source": [
    "# 성별 항목 이름 부여\n",
    "welfare$sex <- ifelse(welfare$sex == 1, \"male\", \"female\")\n",
    "qplot(welfare$sex)"
   ]
  },
  {
   "cell_type": "code",
   "execution_count": 8,
   "metadata": {},
   "outputs": [
    {
     "data": {
      "text/html": [
       "'numeric'"
      ],
      "text/latex": [
       "'numeric'"
      ],
      "text/markdown": [
       "'numeric'"
      ],
      "text/plain": [
       "[1] \"numeric\""
      ]
     },
     "metadata": {},
     "output_type": "display_data"
    }
   ],
   "source": [
    "class(welfare$income)"
   ]
  },
  {
   "cell_type": "code",
   "execution_count": 9,
   "metadata": {},
   "outputs": [
    {
     "data": {
      "text/plain": [
       "   Min. 1st Qu.  Median    Mean 3rd Qu.    Max.    NA's \n",
       "    0.0   122.0   192.5   241.6   316.6  2400.0   12030 "
      ]
     },
     "metadata": {},
     "output_type": "display_data"
    }
   ],
   "source": [
    "summary(welfare$income)"
   ]
  },
  {
   "cell_type": "code",
   "execution_count": 10,
   "metadata": {},
   "outputs": [
    {
     "name": "stderr",
     "output_type": "stream",
     "text": [
      "`stat_bin()` using `bins = 30`. Pick better value with `binwidth`.\n",
      "Warning message:\n",
      "\"Removed 12030 rows containing non-finite values (stat_bin).\""
     ]
    },
    {
     "data": {
      "image/png": "[encoded data removed]",
      "text/plain": [
       "plot without title"
      ]
     },
     "metadata": {},
     "output_type": "display_data"
    }
   ],
   "source": [
    "qplot(welfare$income)"
   ]
  },
  {
   "cell_type": "code",
   "execution_count": 11,
   "metadata": {},
   "outputs": [
    {
     "data": {
      "text/plain": [
       "\n",
       "FALSE  TRUE \n",
       " 4620 12044 "
      ]
     },
     "metadata": {},
     "output_type": "display_data"
    }
   ],
   "source": [
    "# 이상치 결측 처리\n",
    "welfare$income <- ifelse(welfare$income  %in% c(0, 9999), NA, welfare$income)\n",
    "\n",
    "# 결측치 확인\n",
    "table(is.na(welfare$income))"
   ]
  },
  {
   "cell_type": "code",
   "execution_count": 12,
   "metadata": {},
   "outputs": [
    {
     "data": {
      "text/html": [
       "<table>\n",
       "<thead><tr><th scope=col>sex</th><th scope=col>mean_income</th></tr></thead>\n",
       "<tbody>\n",
       "\t<tr><td>female  </td><td>163.2471</td></tr>\n",
       "\t<tr><td>male    </td><td>312.2932</td></tr>\n",
       "</tbody>\n",
       "</table>\n"
      ],
      "text/latex": [
       "\\begin{tabular}{r|ll}\n",
       " sex & mean\\_income\\\\\n",
       "\\hline\n",
       "\t female   & 163.2471\\\\\n",
       "\t male     & 312.2932\\\\\n",
       "\\end{tabular}\n"
      ],
      "text/markdown": [
       "\n",
       "| sex | mean_income |\n",
       "|---|---|\n",
       "| female   | 163.2471 |\n",
       "| male     | 312.2932 |\n",
       "\n"
      ],
      "text/plain": [
       "  sex    mean_income\n",
       "1 female 163.2471   \n",
       "2 male   312.2932   "
      ]
     },
     "metadata": {},
     "output_type": "display_data"
    }
   ],
   "source": [
    "# 성별 월급 평균표 만들기\n",
    "sex_income <- welfare  %>% \n",
    "    filter(!is.na(income))  %>%\n",
    "    group_by(sex)  %>% \n",
    "    summarise(mean_income = mean(income))\n",
    "sex_income"
   ]
  },
  {
   "cell_type": "code",
   "execution_count": 13,
   "metadata": {},
   "outputs": [
    {
     "data": {
      "image/png": "[encoded data removed]",
      "text/plain": [
       "plot without title"
      ]
     },
     "metadata": {},
     "output_type": "display_data"
    }
   ],
   "source": [
    "ggplot(data = sex_income, aes(x = sex, y = mean_income)) + geom_col()"
   ]
  },
  {
   "cell_type": "markdown",
   "metadata": {},
   "source": [
    "# 나이와 월급의 관계"
   ]
  },
  {
   "cell_type": "code",
   "execution_count": 14,
   "metadata": {},
   "outputs": [
    {
     "data": {
      "text/html": [
       "'numeric'"
      ],
      "text/latex": [
       "'numeric'"
      ],
      "text/markdown": [
       "'numeric'"
      ],
      "text/plain": [
       "[1] \"numeric\""
      ]
     },
     "metadata": {},
     "output_type": "display_data"
    }
   ],
   "source": [
    "class(welfare$birth)"
   ]
  },
  {
   "cell_type": "code",
   "execution_count": 15,
   "metadata": {},
   "outputs": [
    {
     "data": {
      "text/plain": [
       "   Min. 1st Qu.  Median    Mean 3rd Qu.    Max. \n",
       "   1907    1946    1966    1968    1988    2014 "
      ]
     },
     "metadata": {},
     "output_type": "display_data"
    }
   ],
   "source": [
    "summary(welfare$birth)"
   ]
  },
  {
   "cell_type": "code",
   "execution_count": 16,
   "metadata": {},
   "outputs": [
    {
     "name": "stderr",
     "output_type": "stream",
     "text": [
      "`stat_bin()` using `bins = 30`. Pick better value with `binwidth`.\n"
     ]
    },
    {
     "data": {
      "image/png": "[encoded data removed]",
      "text/plain": [
       "plot without title"
      ]
     },
     "metadata": {},
     "output_type": "display_data"
    }
   ],
   "source": [
    "qplot(welfare$birth)"
   ]
  },
  {
   "cell_type": "code",
   "execution_count": 17,
   "metadata": {},
   "outputs": [
    {
     "data": {
      "text/plain": [
       "\n",
       "FALSE \n",
       "16664 "
      ]
     },
     "metadata": {},
     "output_type": "display_data"
    }
   ],
   "source": [
    "table(is.na(welfare$birth))"
   ]
  },
  {
   "cell_type": "code",
   "execution_count": 18,
   "metadata": {},
   "outputs": [
    {
     "data": {
      "text/plain": [
       "   Min. 1st Qu.  Median    Mean 3rd Qu.    Max. \n",
       "   2.00   28.00   50.00   48.43   70.00  109.00 "
      ]
     },
     "metadata": {},
     "output_type": "display_data"
    }
   ],
   "source": [
    "welfare$age <- 2015 - welfare$birth + 1\n",
    "summary(welfare$age)"
   ]
  },
  {
   "cell_type": "code",
   "execution_count": 19,
   "metadata": {},
   "outputs": [
    {
     "name": "stderr",
     "output_type": "stream",
     "text": [
      "`stat_bin()` using `bins = 30`. Pick better value with `binwidth`.\n"
     ]
    },
    {
     "data": {
      "image/png": "[encoded data removed]",
      "text/plain": [
       "plot without title"
      ]
     },
     "metadata": {},
     "output_type": "display_data"
    }
   ],
   "source": [
    "qplot(welfare$age)"
   ]
  },
  {
   "cell_type": "code",
   "execution_count": 20,
   "metadata": {},
   "outputs": [
    {
     "data": {
      "text/html": [
       "<table>\n",
       "<thead><tr><th scope=col>age</th><th scope=col>mean_income</th></tr></thead>\n",
       "<tbody>\n",
       "\t<tr><td>20      </td><td>121.3000</td></tr>\n",
       "\t<tr><td>21      </td><td>105.5185</td></tr>\n",
       "\t<tr><td>22      </td><td>130.0923</td></tr>\n",
       "\t<tr><td>23      </td><td>141.7157</td></tr>\n",
       "\t<tr><td>24      </td><td>134.0877</td></tr>\n",
       "\t<tr><td>25      </td><td>144.6559</td></tr>\n",
       "</tbody>\n",
       "</table>\n"
      ],
      "text/latex": [
       "\\begin{tabular}{r|ll}\n",
       " age & mean\\_income\\\\\n",
       "\\hline\n",
       "\t 20       & 121.3000\\\\\n",
       "\t 21       & 105.5185\\\\\n",
       "\t 22       & 130.0923\\\\\n",
       "\t 23       & 141.7157\\\\\n",
       "\t 24       & 134.0877\\\\\n",
       "\t 25       & 144.6559\\\\\n",
       "\\end{tabular}\n"
      ],
      "text/markdown": [
       "\n",
       "| age | mean_income |\n",
       "|---|---|\n",
       "| 20       | 121.3000 |\n",
       "| 21       | 105.5185 |\n",
       "| 22       | 130.0923 |\n",
       "| 23       | 141.7157 |\n",
       "| 24       | 134.0877 |\n",
       "| 25       | 144.6559 |\n",
       "\n"
      ],
      "text/plain": [
       "  age mean_income\n",
       "1 20  121.3000   \n",
       "2 21  105.5185   \n",
       "3 22  130.0923   \n",
       "4 23  141.7157   \n",
       "5 24  134.0877   \n",
       "6 25  144.6559   "
      ]
     },
     "metadata": {},
     "output_type": "display_data"
    }
   ],
   "source": [
    "# 나이에 따른 월급 평균표 만들기\n",
    "\n",
    "age_income <- welfare  %>% \n",
    "    filter(!is.na(income))  %>% \n",
    "    group_by(age)  %>% \n",
    "    summarise(mean_income = mean(income))\n",
    "\n",
    "head(age_income)\n"
   ]
  },
  {
   "cell_type": "code",
   "execution_count": 21,
   "metadata": {},
   "outputs": [
    {
     "data": {
      "image/png": "[encoded data removed]",
      "text/plain": [
       "plot without title"
      ]
     },
     "metadata": {},
     "output_type": "display_data"
    }
   ],
   "source": [
    "# 그래프 만들기\n",
    "\n",
    "ggplot(data = age_income, aes(x = age, y = mean_income)) + geom_line()"
   ]
  },
  {
   "cell_type": "markdown",
   "metadata": {},
   "source": [
    "# 연령대에 따른 월급 차이"
   ]
  },
  {
   "cell_type": "code",
   "execution_count": 22,
   "metadata": {},
   "outputs": [
    {
     "data": {
      "text/plain": [
       "\n",
       "middle    old  young \n",
       "  6049   6281   4334 "
      ]
     },
     "metadata": {},
     "output_type": "display_data"
    }
   ],
   "source": [
    "welfare <- welfare  %>% \n",
    "    mutate(ageg = ifelse(age < 30, \"young\",\n",
    "                        ifelse(age <= 59, \"middle\", \"old\")))\n",
    "table(welfare$ageg)"
   ]
  },
  {
   "cell_type": "code",
   "execution_count": 23,
   "metadata": {},
   "outputs": [
    {
     "data": {
      "image/png": "[encoded data removed]",
      "text/plain": [
       "plot without title"
      ]
     },
     "metadata": {},
     "output_type": "display_data"
    }
   ],
   "source": [
    "qplot(welfare$ageg)"
   ]
  },
  {
   "cell_type": "code",
   "execution_count": 24,
   "metadata": {},
   "outputs": [
    {
     "data": {
      "text/html": [
       "<table>\n",
       "<thead><tr><th scope=col>ageg</th><th scope=col>mean_income</th></tr></thead>\n",
       "<tbody>\n",
       "\t<tr><td>middle  </td><td>281.8871</td></tr>\n",
       "\t<tr><td>old     </td><td>125.3295</td></tr>\n",
       "\t<tr><td>young   </td><td>163.5953</td></tr>\n",
       "</tbody>\n",
       "</table>\n"
      ],
      "text/latex": [
       "\\begin{tabular}{r|ll}\n",
       " ageg & mean\\_income\\\\\n",
       "\\hline\n",
       "\t middle   & 281.8871\\\\\n",
       "\t old      & 125.3295\\\\\n",
       "\t young    & 163.5953\\\\\n",
       "\\end{tabular}\n"
      ],
      "text/markdown": [
       "\n",
       "| ageg | mean_income |\n",
       "|---|---|\n",
       "| middle   | 281.8871 |\n",
       "| old      | 125.3295 |\n",
       "| young    | 163.5953 |\n",
       "\n"
      ],
      "text/plain": [
       "  ageg   mean_income\n",
       "1 middle 281.8871   \n",
       "2 old    125.3295   \n",
       "3 young  163.5953   "
      ]
     },
     "metadata": {},
     "output_type": "display_data"
    }
   ],
   "source": [
    "# \n",
    "ageg_income  <- welfare  %>%\n",
    "    filter(!is.na(income))  %>% \n",
    "    group_by(ageg)  %>% \n",
    "    summarise(mean_income = mean(income))\n",
    "\n",
    "ageg_income"
   ]
  },
  {
   "cell_type": "code",
   "execution_count": 25,
   "metadata": {},
   "outputs": [
    {
     "data": {
      "image/png": "[encoded data removed]",
      "text/plain": [
       "plot without title"
      ]
     },
     "metadata": {},
     "output_type": "display_data"
    }
   ],
   "source": [
    "ggplot(data = ageg_income, aes(x = ageg, y = mean_income)) + geom_col()"
   ]
  },
  {
   "cell_type": "code",
   "execution_count": 26,
   "metadata": {},
   "outputs": [
    {
     "name": "stderr",
     "output_type": "stream",
     "text": [
      "Warning message:\n",
      "\"Removed 1 rows containing missing values (position_stack).\""
     ]
    },
    {
     "data": {
      "image/png": "[encoded data removed]",
      "text/plain": [
       "plot without title"
      ]
     },
     "metadata": {},
     "output_type": "display_data"
    }
   ],
   "source": [
    "ggplot(data = ageg_income, aes(x = ageg, y = mean_income)) + geom_col() +\n",
    "    scale_x_discrete(limits = c(\"yong\", 'middle', 'old'))"
   ]
  },
  {
   "cell_type": "code",
   "execution_count": 27,
   "metadata": {},
   "outputs": [
    {
     "data": {
      "text/html": [
       "<table>\n",
       "<thead><tr><th scope=col>ageg</th><th scope=col>sex</th><th scope=col>mean_income</th></tr></thead>\n",
       "<tbody>\n",
       "\t<tr><td>middle   </td><td>female   </td><td>187.97552</td></tr>\n",
       "\t<tr><td>middle   </td><td>male     </td><td>353.07574</td></tr>\n",
       "\t<tr><td>old      </td><td>female   </td><td> 81.52917</td></tr>\n",
       "\t<tr><td>old      </td><td>male     </td><td>173.85558</td></tr>\n",
       "\t<tr><td>young    </td><td>female   </td><td>159.50518</td></tr>\n",
       "\t<tr><td>young    </td><td>male     </td><td>170.81737</td></tr>\n",
       "</tbody>\n",
       "</table>\n"
      ],
      "text/latex": [
       "\\begin{tabular}{r|lll}\n",
       " ageg & sex & mean\\_income\\\\\n",
       "\\hline\n",
       "\t middle    & female    & 187.97552\\\\\n",
       "\t middle    & male      & 353.07574\\\\\n",
       "\t old       & female    &  81.52917\\\\\n",
       "\t old       & male      & 173.85558\\\\\n",
       "\t young     & female    & 159.50518\\\\\n",
       "\t young     & male      & 170.81737\\\\\n",
       "\\end{tabular}\n"
      ],
      "text/markdown": [
       "\n",
       "| ageg | sex | mean_income |\n",
       "|---|---|---|\n",
       "| middle    | female    | 187.97552 |\n",
       "| middle    | male      | 353.07574 |\n",
       "| old       | female    |  81.52917 |\n",
       "| old       | male      | 173.85558 |\n",
       "| young     | female    | 159.50518 |\n",
       "| young     | male      | 170.81737 |\n",
       "\n"
      ],
      "text/plain": [
       "  ageg   sex    mean_income\n",
       "1 middle female 187.97552  \n",
       "2 middle male   353.07574  \n",
       "3 old    female  81.52917  \n",
       "4 old    male   173.85558  \n",
       "5 young  female 159.50518  \n",
       "6 young  male   170.81737  "
      ]
     },
     "metadata": {},
     "output_type": "display_data"
    }
   ],
   "source": [
    "sex_income <- welfare  %>% \n",
    "    filter(!is.na(income))  %>% \n",
    "    group_by(ageg, sex)  %>% \n",
    "    summarise(mean_income = mean(income)) \n",
    "sex_income"
   ]
  },
  {
   "cell_type": "code",
   "execution_count": 28,
   "metadata": {},
   "outputs": [
    {
     "data": {
      "image/png": "[encoded data removed]",
      "text/plain": [
       "plot without title"
      ]
     },
     "metadata": {},
     "output_type": "display_data"
    }
   ],
   "source": [
    "ggplot(data =sex_income, aes(x = ageg, y = mean_income, fill = sex)) + \n",
    "    geom_col(position = \"dodge\") +\n",
    "    scale_x_discrete(limits = c(\"young\", \"middle\", \"old\"))"
   ]
  },
  {
   "cell_type": "code",
   "execution_count": 29,
   "metadata": {},
   "outputs": [
    {
     "data": {
      "text/html": [
       "<table>\n",
       "<thead><tr><th scope=col>age</th><th scope=col>sex</th><th scope=col>mean_income</th></tr></thead>\n",
       "<tbody>\n",
       "\t<tr><td>20      </td><td>female  </td><td>147.4500</td></tr>\n",
       "\t<tr><td>20      </td><td>male    </td><td> 69.0000</td></tr>\n",
       "\t<tr><td>21      </td><td>female  </td><td>106.9789</td></tr>\n",
       "\t<tr><td>21      </td><td>male    </td><td>102.0500</td></tr>\n",
       "\t<tr><td>22      </td><td>female  </td><td>139.8547</td></tr>\n",
       "\t<tr><td>22      </td><td>male    </td><td>118.2379</td></tr>\n",
       "</tbody>\n",
       "</table>\n"
      ],
      "text/latex": [
       "\\begin{tabular}{r|lll}\n",
       " age & sex & mean\\_income\\\\\n",
       "\\hline\n",
       "\t 20       & female   & 147.4500\\\\\n",
       "\t 20       & male     &  69.0000\\\\\n",
       "\t 21       & female   & 106.9789\\\\\n",
       "\t 21       & male     & 102.0500\\\\\n",
       "\t 22       & female   & 139.8547\\\\\n",
       "\t 22       & male     & 118.2379\\\\\n",
       "\\end{tabular}\n"
      ],
      "text/markdown": [
       "\n",
       "| age | sex | mean_income |\n",
       "|---|---|---|\n",
       "| 20       | female   | 147.4500 |\n",
       "| 20       | male     |  69.0000 |\n",
       "| 21       | female   | 106.9789 |\n",
       "| 21       | male     | 102.0500 |\n",
       "| 22       | female   | 139.8547 |\n",
       "| 22       | male     | 118.2379 |\n",
       "\n"
      ],
      "text/plain": [
       "  age sex    mean_income\n",
       "1 20  female 147.4500   \n",
       "2 20  male    69.0000   \n",
       "3 21  female 106.9789   \n",
       "4 21  male   102.0500   \n",
       "5 22  female 139.8547   \n",
       "6 22  male   118.2379   "
      ]
     },
     "metadata": {},
     "output_type": "display_data"
    }
   ],
   "source": [
    " # 성별 연령별 월급 평균표 만들기\n",
    "\n",
    "sex_age <- welfare  %>% \n",
    "    filter(!is.na(income))  %>% \n",
    "    group_by(age, sex)  %>% \n",
    "    summarise(mean_income = mean(income))\n",
    "\n",
    "head(sex_age)"
   ]
  },
  {
   "cell_type": "code",
   "execution_count": 30,
   "metadata": {},
   "outputs": [
    {
     "data": {
      "image/png": "[encoded data removed]",
      "text/plain": [
       "plot without title"
      ]
     },
     "metadata": {},
     "output_type": "display_data"
    }
   ],
   "source": [
    "# 그래프 만들기\n",
    "ggplot(data = sex_age, aes(x = age, y = mean_income, col = sex)) + geom_line()"
   ]
  },
  {
   "cell_type": "code",
   "execution_count": 31,
   "metadata": {},
   "outputs": [
    {
     "data": {
      "text/html": [
       "'numeric'"
      ],
      "text/latex": [
       "'numeric'"
      ],
      "text/markdown": [
       "'numeric'"
      ],
      "text/plain": [
       "[1] \"numeric\""
      ]
     },
     "metadata": {},
     "output_type": "display_data"
    }
   ],
   "source": [
    "class(welfare$code_job)"
   ]
  },
  {
   "cell_type": "code",
   "execution_count": 32,
   "metadata": {},
   "outputs": [
    {
     "data": {
      "text/plain": [
       "\n",
       " 111  120  131  132  133  134  135  139  141  149  151  152  153  159  211  212 \n",
       "   2   16   10   11    9    3    7   10   35   20   26   18   15   16    8    4 \n",
       " 213  221  222  223  224  231  232  233  234  235  236  237  239  241  242  243 \n",
       "   3   17   31   12    4   41    5    3    6   48   14    2   29   12    4   63 \n",
       " 244  245  246  247  248  251  252  253  254  259  261  271  272  273  274  281 \n",
       "   4   33   59   77   38   14  111   24   67  109    4   15   11    4   36   17 \n",
       " 283  284  285  286  289  311  312  313  314  320  330  391  392  399  411  412 \n",
       "   8   10   26   16    5  140  260  220   84   75   15    4   13   87   47   12 \n",
       " 421  422  423  429  431  432  441  442  510  521  522  530  611  612  613  620 \n",
       " 124   71    5   14   20   33  154  197  192  353    5  106 1320   11   40    2 \n",
       " 630  710  721  722  730  741  742  743  751  752  753  761  762  771  772  773 \n",
       "  20   29   30   22   16   27    3   34   34    5   49   69   27   11   61   86 \n",
       " 774  780  791  792  799  811  812  819  821  822  823  831  832  841  842  843 \n",
       "   7   17    5   21   45   16    1    6    9    9   23    5   17   32   10    4 \n",
       " 851  852  853  854  855  861  862  863  864  871  873  874  875  876  881  882 \n",
       "  19   13    7   33    9    3   14   17   31    2  257   34   37    2    2    3 \n",
       " 891  892  899  910  921  922  930  941  942  951  952  953  991  992  999 1011 \n",
       "   8   19   16  102   31   74  289  325   99  125  122   73   45   12  141    2 \n",
       "1012 \n",
       "  17 "
      ]
     },
     "metadata": {},
     "output_type": "display_data"
    }
   ],
   "source": [
    "table(welfare$code_job)"
   ]
  },
  {
   "cell_type": "code",
   "execution_count": 33,
   "metadata": {},
   "outputs": [
    {
     "data": {
      "text/html": [
       "<table>\n",
       "<thead><tr><th scope=col>code_job</th><th scope=col>job</th></tr></thead>\n",
       "<tbody>\n",
       "\t<tr><td>111                                </td><td>의회의원 고위공무원 및 공공단체임원</td></tr>\n",
       "\t<tr><td>112                                </td><td>기업고위임원                       </td></tr>\n",
       "\t<tr><td>120                                </td><td>행정 및 경영지원 관리자            </td></tr>\n",
       "\t<tr><td>131                                </td><td>연구 교육 및 법률 관련 관리자      </td></tr>\n",
       "\t<tr><td>132                                </td><td>보험 및 금융 관리자                </td></tr>\n",
       "\t<tr><td>133                                </td><td>보건 및 사회복지 관련 관리자       </td></tr>\n",
       "</tbody>\n",
       "</table>\n"
      ],
      "text/latex": [
       "\\begin{tabular}{r|ll}\n",
       " code\\_job & job\\\\\n",
       "\\hline\n",
       "\t 111                                 & 의회의원 고위공무원 및 공공단체임원\\\\\n",
       "\t 112                                 & 기업고위임원                       \\\\\n",
       "\t 120                                 & 행정 및 경영지원 관리자            \\\\\n",
       "\t 131                                 & 연구 교육 및 법률 관련 관리자      \\\\\n",
       "\t 132                                 & 보험 및 금융 관리자                \\\\\n",
       "\t 133                                 & 보건 및 사회복지 관련 관리자       \\\\\n",
       "\\end{tabular}\n"
      ],
      "text/markdown": [
       "\n",
       "| code_job | job |\n",
       "|---|---|\n",
       "| 111                                 | 의회의원 고위공무원 및 공공단체임원 |\n",
       "| 112                                 | 기업고위임원                        |\n",
       "| 120                                 | 행정 및 경영지원 관리자             |\n",
       "| 131                                 | 연구 교육 및 법률 관련 관리자       |\n",
       "| 132                                 | 보험 및 금융 관리자                 |\n",
       "| 133                                 | 보건 및 사회복지 관련 관리자        |\n",
       "\n"
      ],
      "text/plain": [
       "  code_job job                                \n",
       "1 111      의회의원 고위공무원 및 공공단체임원\n",
       "2 112      기업고위임원                       \n",
       "3 120      행정 및 경영지원 관리자            \n",
       "4 131      연구 교육 및 법률 관련 관리자      \n",
       "5 132      보험 및 금융 관리자                \n",
       "6 133      보건 및 사회복지 관련 관리자       "
      ]
     },
     "metadata": {},
     "output_type": "display_data"
    }
   ],
   "source": [
    "library(readxl)\n",
    "list_job <- read_excel(\"Koweps_Codebook.xlsx\", col_names = T, sheet = 2)\n",
    "head(list_job)"
   ]
  },
  {
   "cell_type": "code",
   "execution_count": 34,
   "metadata": {},
   "outputs": [
    {
     "name": "stderr",
     "output_type": "stream",
     "text": [
      "Joining, by = \"code_job\"\n"
     ]
    }
   ],
   "source": [
    "welfare <- left_join(welfare, list_job, id=\"code_job\")\n"
   ]
  },
  {
   "cell_type": "code",
   "execution_count": 35,
   "metadata": {},
   "outputs": [
    {
     "data": {
      "text/html": [
       "<table>\n",
       "<thead><tr><th scope=col>code_job</th><th scope=col>job</th></tr></thead>\n",
       "<tbody>\n",
       "\t<tr><td>942                               </td><td>경비원 및 검표원                  </td></tr>\n",
       "\t<tr><td>762                               </td><td>전기공                            </td></tr>\n",
       "\t<tr><td>530                               </td><td>방문 노점 및 통신 판매 관련 종사자</td></tr>\n",
       "\t<tr><td>999                               </td><td>기타 서비스관련 단순 종사원       </td></tr>\n",
       "\t<tr><td>312                               </td><td>경영관련 사무원                   </td></tr>\n",
       "\t<tr><td>254                               </td><td>문리 기술 및 예능 강사            </td></tr>\n",
       "\t<tr><td>510                               </td><td>영업 종사자                       </td></tr>\n",
       "\t<tr><td>530                               </td><td>방문 노점 및 통신 판매 관련 종사자</td></tr>\n",
       "\t<tr><td>286                               </td><td>스포츠 및 레크레이션 관련 전문가  </td></tr>\n",
       "\t<tr><td>521                               </td><td>매장 판매 종사자                  </td></tr>\n",
       "</tbody>\n",
       "</table>\n"
      ],
      "text/latex": [
       "\\begin{tabular}{r|ll}\n",
       " code\\_job & job\\\\\n",
       "\\hline\n",
       "\t 942                                & 경비원 및 검표원                  \\\\\n",
       "\t 762                                & 전기공                            \\\\\n",
       "\t 530                                & 방문 노점 및 통신 판매 관련 종사자\\\\\n",
       "\t 999                                & 기타 서비스관련 단순 종사원       \\\\\n",
       "\t 312                                & 경영관련 사무원                   \\\\\n",
       "\t 254                                & 문리 기술 및 예능 강사            \\\\\n",
       "\t 510                                & 영업 종사자                       \\\\\n",
       "\t 530                                & 방문 노점 및 통신 판매 관련 종사자\\\\\n",
       "\t 286                                & 스포츠 및 레크레이션 관련 전문가  \\\\\n",
       "\t 521                                & 매장 판매 종사자                  \\\\\n",
       "\\end{tabular}\n"
      ],
      "text/markdown": [
       "\n",
       "| code_job | job |\n",
       "|---|---|\n",
       "| 942                                | 경비원 및 검표원                   |\n",
       "| 762                                | 전기공                             |\n",
       "| 530                                | 방문 노점 및 통신 판매 관련 종사자 |\n",
       "| 999                                | 기타 서비스관련 단순 종사원        |\n",
       "| 312                                | 경영관련 사무원                    |\n",
       "| 254                                | 문리 기술 및 예능 강사             |\n",
       "| 510                                | 영업 종사자                        |\n",
       "| 530                                | 방문 노점 및 통신 판매 관련 종사자 |\n",
       "| 286                                | 스포츠 및 레크레이션 관련 전문가   |\n",
       "| 521                                | 매장 판매 종사자                   |\n",
       "\n"
      ],
      "text/plain": [
       "   code_job job                               \n",
       "1  942      경비원 및 검표원                  \n",
       "2  762      전기공                            \n",
       "3  530      방문 노점 및 통신 판매 관련 종사자\n",
       "4  999      기타 서비스관련 단순 종사원       \n",
       "5  312      경영관련 사무원                   \n",
       "6  254      문리 기술 및 예능 강사            \n",
       "7  510      영업 종사자                       \n",
       "8  530      방문 노점 및 통신 판매 관련 종사자\n",
       "9  286      스포츠 및 레크레이션 관련 전문가  \n",
       "10 521      매장 판매 종사자                  "
      ]
     },
     "metadata": {},
     "output_type": "display_data"
    }
   ],
   "source": [
    "welfare  %>% \n",
    "    filter(!is.na(code_job))  %>% \n",
    "    select(code_job, job)  %>% \n",
    "    head(10)"
   ]
  },
  {
   "cell_type": "markdown",
   "metadata": {},
   "source": [
    "직업별 월급 차이 분석하기"
   ]
  },
  {
   "cell_type": "code",
   "execution_count": 36,
   "metadata": {},
   "outputs": [
    {
     "data": {
      "text/html": [
       "<table>\n",
       "<thead><tr><th scope=col>job</th><th scope=col>mean_income</th></tr></thead>\n",
       "<tbody>\n",
       "\t<tr><td>가사 및 육아 도우미          </td><td> 80.16648                    </td></tr>\n",
       "\t<tr><td>간호사                       </td><td>240.68127                    </td></tr>\n",
       "\t<tr><td>건설 및 광업 단순 종사원     </td><td>190.12974                    </td></tr>\n",
       "\t<tr><td>건설 및 채굴 기계운전원      </td><td>357.97000                    </td></tr>\n",
       "\t<tr><td>건설 전기 및 생산 관련 관리자</td><td>535.80556                    </td></tr>\n",
       "\t<tr><td>건설관련 기능 종사자         </td><td>246.63214                    </td></tr>\n",
       "</tbody>\n",
       "</table>\n"
      ],
      "text/latex": [
       "\\begin{tabular}{r|ll}\n",
       " job & mean\\_income\\\\\n",
       "\\hline\n",
       "\t 가사 및 육아 도우미           &  80.16648                    \\\\\n",
       "\t 간호사                        & 240.68127                    \\\\\n",
       "\t 건설 및 광업 단순 종사원      & 190.12974                    \\\\\n",
       "\t 건설 및 채굴 기계운전원       & 357.97000                    \\\\\n",
       "\t 건설 전기 및 생산 관련 관리자 & 535.80556                    \\\\\n",
       "\t 건설관련 기능 종사자          & 246.63214                    \\\\\n",
       "\\end{tabular}\n"
      ],
      "text/markdown": [
       "\n",
       "| job | mean_income |\n",
       "|---|---|\n",
       "| 가사 및 육아 도우미           |  80.16648                     |\n",
       "| 간호사                        | 240.68127                     |\n",
       "| 건설 및 광업 단순 종사원      | 190.12974                     |\n",
       "| 건설 및 채굴 기계운전원       | 357.97000                     |\n",
       "| 건설 전기 및 생산 관련 관리자 | 535.80556                     |\n",
       "| 건설관련 기능 종사자          | 246.63214                     |\n",
       "\n"
      ],
      "text/plain": [
       "  job                           mean_income\n",
       "1 가사 및 육아 도우미            80.16648  \n",
       "2 간호사                        240.68127  \n",
       "3 건설 및 광업 단순 종사원      190.12974  \n",
       "4 건설 및 채굴 기계운전원       357.97000  \n",
       "5 건설 전기 및 생산 관련 관리자 535.80556  \n",
       "6 건설관련 기능 종사자          246.63214  "
      ]
     },
     "metadata": {},
     "output_type": "display_data"
    }
   ],
   "source": [
    "job_income <- welfare  %>% \n",
    "    filter(!is.na(job) & !is.na(income))  %>% \n",
    "    group_by(job)  %>% \n",
    "    summarise(mean_income = mean(income))\n",
    "\n",
    "head(job_income)"
   ]
  },
  {
   "cell_type": "code",
   "execution_count": 37,
   "metadata": {},
   "outputs": [
    {
     "data": {
      "text/html": [
       "<table>\n",
       "<thead><tr><th scope=col>job</th><th scope=col>mean_income</th></tr></thead>\n",
       "<tbody>\n",
       "\t<tr><td>금속 재료 공학 기술자 및 시험원     </td><td>845.0667                            </td></tr>\n",
       "\t<tr><td>의료진료 전문가                     </td><td>843.6429                            </td></tr>\n",
       "\t<tr><td>의회의원 고위공무원 및 공공단체임원 </td><td>750.0000                            </td></tr>\n",
       "\t<tr><td>보험 및 금융 관리자                 </td><td>726.1800                            </td></tr>\n",
       "\t<tr><td>제관원 및 판금원                    </td><td>572.4067                            </td></tr>\n",
       "\t<tr><td>행정 및 경영지원 관리자             </td><td>563.7633                            </td></tr>\n",
       "\t<tr><td>문화 예술 디자인 및 영상 관련 관리자</td><td>557.4667                            </td></tr>\n",
       "\t<tr><td>연구 교육 및 법률 관련 관리자       </td><td>549.9125                            </td></tr>\n",
       "\t<tr><td>건설 전기 및 생산 관련 관리자       </td><td>535.8056                            </td></tr>\n",
       "\t<tr><td>석유 및 화학물 가공장치 조작원      </td><td>531.6600                            </td></tr>\n",
       "</tbody>\n",
       "</table>\n"
      ],
      "text/latex": [
       "\\begin{tabular}{r|ll}\n",
       " job & mean\\_income\\\\\n",
       "\\hline\n",
       "\t 금속 재료 공학 기술자 및 시험원      & 845.0667                            \\\\\n",
       "\t 의료진료 전문가                      & 843.6429                            \\\\\n",
       "\t 의회의원 고위공무원 및 공공단체임원  & 750.0000                            \\\\\n",
       "\t 보험 및 금융 관리자                  & 726.1800                            \\\\\n",
       "\t 제관원 및 판금원                     & 572.4067                            \\\\\n",
       "\t 행정 및 경영지원 관리자              & 563.7633                            \\\\\n",
       "\t 문화 예술 디자인 및 영상 관련 관리자 & 557.4667                            \\\\\n",
       "\t 연구 교육 및 법률 관련 관리자        & 549.9125                            \\\\\n",
       "\t 건설 전기 및 생산 관련 관리자        & 535.8056                            \\\\\n",
       "\t 석유 및 화학물 가공장치 조작원       & 531.6600                            \\\\\n",
       "\\end{tabular}\n"
      ],
      "text/markdown": [
       "\n",
       "| job | mean_income |\n",
       "|---|---|\n",
       "| 금속 재료 공학 기술자 및 시험원      | 845.0667                             |\n",
       "| 의료진료 전문가                      | 843.6429                             |\n",
       "| 의회의원 고위공무원 및 공공단체임원  | 750.0000                             |\n",
       "| 보험 및 금융 관리자                  | 726.1800                             |\n",
       "| 제관원 및 판금원                     | 572.4067                             |\n",
       "| 행정 및 경영지원 관리자              | 563.7633                             |\n",
       "| 문화 예술 디자인 및 영상 관련 관리자 | 557.4667                             |\n",
       "| 연구 교육 및 법률 관련 관리자        | 549.9125                             |\n",
       "| 건설 전기 및 생산 관련 관리자        | 535.8056                             |\n",
       "| 석유 및 화학물 가공장치 조작원       | 531.6600                             |\n",
       "\n"
      ],
      "text/plain": [
       "   job                                  mean_income\n",
       "1  금속 재료 공학 기술자 및 시험원      845.0667   \n",
       "2  의료진료 전문가                      843.6429   \n",
       "3  의회의원 고위공무원 및 공공단체임원  750.0000   \n",
       "4  보험 및 금융 관리자                  726.1800   \n",
       "5  제관원 및 판금원                     572.4067   \n",
       "6  행정 및 경영지원 관리자              563.7633   \n",
       "7  문화 예술 디자인 및 영상 관련 관리자 557.4667   \n",
       "8  연구 교육 및 법률 관련 관리자        549.9125   \n",
       "9  건설 전기 및 생산 관련 관리자        535.8056   \n",
       "10 석유 및 화학물 가공장치 조작원       531.6600   "
      ]
     },
     "metadata": {},
     "output_type": "display_data"
    }
   ],
   "source": [
    "top10 <- job_income  %>% \n",
    "    arrange(desc(mean_income))  %>% \n",
    "    head(10)\n",
    "\n",
    "top10"
   ]
  },
  {
   "cell_type": "code",
   "execution_count": 38,
   "metadata": {},
   "outputs": [
    {
     "data": {
      "image/png": "[encoded data removed]",
      "text/plain": [
       "plot without title"
      ]
     },
     "metadata": {},
     "output_type": "display_data"
    }
   ],
   "source": [
    "ggplot(data = top10, aes(x = reorder(job, mean_income), y = mean_income)) +\n",
    "    geom_col() + \n",
    "    coord_flip()"
   ]
  },
  {
   "cell_type": "code",
   "execution_count": 39,
   "metadata": {},
   "outputs": [
    {
     "data": {
      "text/html": [
       "<table>\n",
       "<thead><tr><th scope=col>job</th><th scope=col>mean_income</th></tr></thead>\n",
       "<tbody>\n",
       "\t<tr><td>가사 및 육아 도우미         </td><td> 80.16648                   </td></tr>\n",
       "\t<tr><td>임업관련 종사자             </td><td> 83.33000                   </td></tr>\n",
       "\t<tr><td>기타 서비스관련 단순 종사원 </td><td> 88.22101                   </td></tr>\n",
       "\t<tr><td>청소원 및 환경 미화원       </td><td> 88.78775                   </td></tr>\n",
       "\t<tr><td>약사 및 한약사              </td><td> 89.00000                   </td></tr>\n",
       "\t<tr><td>작물재배 종사자             </td><td> 92.00000                   </td></tr>\n",
       "\t<tr><td>농립어업관련 단순 종사원    </td><td>101.58125                   </td></tr>\n",
       "\t<tr><td>의료 복지 관련 서비스 종사자</td><td>103.52643                   </td></tr>\n",
       "\t<tr><td>음식관련 단순 종사원        </td><td>107.84511                   </td></tr>\n",
       "\t<tr><td>판매관련 단순 종사원        </td><td>116.82203                   </td></tr>\n",
       "</tbody>\n",
       "</table>\n"
      ],
      "text/latex": [
       "\\begin{tabular}{r|ll}\n",
       " job & mean\\_income\\\\\n",
       "\\hline\n",
       "\t 가사 및 육아 도우미          &  80.16648                   \\\\\n",
       "\t 임업관련 종사자              &  83.33000                   \\\\\n",
       "\t 기타 서비스관련 단순 종사원  &  88.22101                   \\\\\n",
       "\t 청소원 및 환경 미화원        &  88.78775                   \\\\\n",
       "\t 약사 및 한약사               &  89.00000                   \\\\\n",
       "\t 작물재배 종사자              &  92.00000                   \\\\\n",
       "\t 농립어업관련 단순 종사원     & 101.58125                   \\\\\n",
       "\t 의료 복지 관련 서비스 종사자 & 103.52643                   \\\\\n",
       "\t 음식관련 단순 종사원         & 107.84511                   \\\\\n",
       "\t 판매관련 단순 종사원         & 116.82203                   \\\\\n",
       "\\end{tabular}\n"
      ],
      "text/markdown": [
       "\n",
       "| job | mean_income |\n",
       "|---|---|\n",
       "| 가사 및 육아 도우미          |  80.16648                    |\n",
       "| 임업관련 종사자              |  83.33000                    |\n",
       "| 기타 서비스관련 단순 종사원  |  88.22101                    |\n",
       "| 청소원 및 환경 미화원        |  88.78775                    |\n",
       "| 약사 및 한약사               |  89.00000                    |\n",
       "| 작물재배 종사자              |  92.00000                    |\n",
       "| 농립어업관련 단순 종사원     | 101.58125                    |\n",
       "| 의료 복지 관련 서비스 종사자 | 103.52643                    |\n",
       "| 음식관련 단순 종사원         | 107.84511                    |\n",
       "| 판매관련 단순 종사원         | 116.82203                    |\n",
       "\n"
      ],
      "text/plain": [
       "   job                          mean_income\n",
       "1  가사 및 육아 도우미           80.16648  \n",
       "2  임업관련 종사자               83.33000  \n",
       "3  기타 서비스관련 단순 종사원   88.22101  \n",
       "4  청소원 및 환경 미화원         88.78775  \n",
       "5  약사 및 한약사                89.00000  \n",
       "6  작물재배 종사자               92.00000  \n",
       "7  농립어업관련 단순 종사원     101.58125  \n",
       "8  의료 복지 관련 서비스 종사자 103.52643  \n",
       "9  음식관련 단순 종사원         107.84511  \n",
       "10 판매관련 단순 종사원         116.82203  "
      ]
     },
     "metadata": {},
     "output_type": "display_data"
    }
   ],
   "source": [
    "# 하위 10위 추출\n",
    "bottom10 <- job_income  %>% \n",
    "    arrange(mean_income)  %>% \n",
    "    head(10)\n",
    "bottom10"
   ]
  },
  {
   "cell_type": "code",
   "execution_count": 40,
   "metadata": {},
   "outputs": [
    {
     "data": {
      "image/png": "[encoded data removed]",
      "text/plain": [
       "plot without title"
      ]
     },
     "metadata": {},
     "output_type": "display_data"
    }
   ],
   "source": [
    "# 그래프 만들기\n",
    "\n",
    "ggplot(data = bottom10, aes(x = reorder(job, -mean_income), \n",
    "                           y = mean_income)) +\n",
    "    geom_col() +\n",
    "    coord_flip() +\n",
    "    ylim(0, 850)"
   ]
  },
  {
   "cell_type": "markdown",
   "metadata": {},
   "source": [
    "# 성별 직업 빈도"
   ]
  },
  {
   "cell_type": "code",
   "execution_count": 41,
   "metadata": {},
   "outputs": [
    {
     "data": {
      "text/html": [
       "<table>\n",
       "<thead><tr><th scope=col>job</th><th scope=col>n</th></tr></thead>\n",
       "<tbody>\n",
       "\t<tr><td>작물재배 종사자         </td><td>640                     </td></tr>\n",
       "\t<tr><td>자동차 운전원           </td><td>251                     </td></tr>\n",
       "\t<tr><td>경영관련 사무원         </td><td>213                     </td></tr>\n",
       "\t<tr><td>영업 종사자             </td><td>141                     </td></tr>\n",
       "\t<tr><td>매장 판매 종사자        </td><td>132                     </td></tr>\n",
       "\t<tr><td>제조관련 단순 종사원    </td><td>104                     </td></tr>\n",
       "\t<tr><td>청소원 및 환경 미화원   </td><td> 97                     </td></tr>\n",
       "\t<tr><td>건설 및 광업 단순 종사원</td><td> 95                     </td></tr>\n",
       "\t<tr><td>경비원 및 검표원        </td><td> 95                     </td></tr>\n",
       "\t<tr><td>행정 사무원             </td><td> 92                     </td></tr>\n",
       "</tbody>\n",
       "</table>\n"
      ],
      "text/latex": [
       "\\begin{tabular}{r|ll}\n",
       " job & n\\\\\n",
       "\\hline\n",
       "\t 작물재배 종사자          & 640                     \\\\\n",
       "\t 자동차 운전원            & 251                     \\\\\n",
       "\t 경영관련 사무원          & 213                     \\\\\n",
       "\t 영업 종사자              & 141                     \\\\\n",
       "\t 매장 판매 종사자         & 132                     \\\\\n",
       "\t 제조관련 단순 종사원     & 104                     \\\\\n",
       "\t 청소원 및 환경 미화원    &  97                     \\\\\n",
       "\t 건설 및 광업 단순 종사원 &  95                     \\\\\n",
       "\t 경비원 및 검표원         &  95                     \\\\\n",
       "\t 행정 사무원              &  92                     \\\\\n",
       "\\end{tabular}\n"
      ],
      "text/markdown": [
       "\n",
       "| job | n |\n",
       "|---|---|\n",
       "| 작물재배 종사자          | 640                      |\n",
       "| 자동차 운전원            | 251                      |\n",
       "| 경영관련 사무원          | 213                      |\n",
       "| 영업 종사자              | 141                      |\n",
       "| 매장 판매 종사자         | 132                      |\n",
       "| 제조관련 단순 종사원     | 104                      |\n",
       "| 청소원 및 환경 미화원    |  97                      |\n",
       "| 건설 및 광업 단순 종사원 |  95                      |\n",
       "| 경비원 및 검표원         |  95                      |\n",
       "| 행정 사무원              |  92                      |\n",
       "\n"
      ],
      "text/plain": [
       "   job                      n  \n",
       "1  작물재배 종사자          640\n",
       "2  자동차 운전원            251\n",
       "3  경영관련 사무원          213\n",
       "4  영업 종사자              141\n",
       "5  매장 판매 종사자         132\n",
       "6  제조관련 단순 종사원     104\n",
       "7  청소원 및 환경 미화원     97\n",
       "8  건설 및 광업 단순 종사원  95\n",
       "9  경비원 및 검표원          95\n",
       "10 행정 사무원               92"
      ]
     },
     "metadata": {},
     "output_type": "display_data"
    }
   ],
   "source": [
    "# 남성 직업 빈도 상위 10개 추출\n",
    "\n",
    "job_male <- welfare  %>% \n",
    "    filter(!is.na(job) & sex == \"male\")  %>% \n",
    "    group_by(job)  %>% \n",
    "    summarise(n = n())  %>% \n",
    "    arrange(desc(n))  %>% \n",
    "    head(10)\n",
    "job_male"
   ]
  },
  {
   "cell_type": "code",
   "execution_count": 42,
   "metadata": {},
   "outputs": [
    {
     "data": {
      "text/html": [
       "<table>\n",
       "<thead><tr><th scope=col>job</th><th scope=col>n</th></tr></thead>\n",
       "<tbody>\n",
       "\t<tr><td>작물재배 종사자             </td><td>680                         </td></tr>\n",
       "\t<tr><td>청소원 및 환경 미화원       </td><td>228                         </td></tr>\n",
       "\t<tr><td>매장 판매 종사자            </td><td>221                         </td></tr>\n",
       "\t<tr><td>제조관련 단순 종사원        </td><td>185                         </td></tr>\n",
       "\t<tr><td>회계 및 경리 사무원         </td><td>176                         </td></tr>\n",
       "\t<tr><td>음식서비스 종사자           </td><td>149                         </td></tr>\n",
       "\t<tr><td>주방장 및 조리사            </td><td>126                         </td></tr>\n",
       "\t<tr><td>가사 및 육아 도우미         </td><td>125                         </td></tr>\n",
       "\t<tr><td>의료 복지 관련 서비스 종사자</td><td>121                         </td></tr>\n",
       "\t<tr><td>음식관련 단순 종사원        </td><td>104                         </td></tr>\n",
       "</tbody>\n",
       "</table>\n"
      ],
      "text/latex": [
       "\\begin{tabular}{r|ll}\n",
       " job & n\\\\\n",
       "\\hline\n",
       "\t 작물재배 종사자              & 680                         \\\\\n",
       "\t 청소원 및 환경 미화원        & 228                         \\\\\n",
       "\t 매장 판매 종사자             & 221                         \\\\\n",
       "\t 제조관련 단순 종사원         & 185                         \\\\\n",
       "\t 회계 및 경리 사무원          & 176                         \\\\\n",
       "\t 음식서비스 종사자            & 149                         \\\\\n",
       "\t 주방장 및 조리사             & 126                         \\\\\n",
       "\t 가사 및 육아 도우미          & 125                         \\\\\n",
       "\t 의료 복지 관련 서비스 종사자 & 121                         \\\\\n",
       "\t 음식관련 단순 종사원         & 104                         \\\\\n",
       "\\end{tabular}\n"
      ],
      "text/markdown": [
       "\n",
       "| job | n |\n",
       "|---|---|\n",
       "| 작물재배 종사자              | 680                          |\n",
       "| 청소원 및 환경 미화원        | 228                          |\n",
       "| 매장 판매 종사자             | 221                          |\n",
       "| 제조관련 단순 종사원         | 185                          |\n",
       "| 회계 및 경리 사무원          | 176                          |\n",
       "| 음식서비스 종사자            | 149                          |\n",
       "| 주방장 및 조리사             | 126                          |\n",
       "| 가사 및 육아 도우미          | 125                          |\n",
       "| 의료 복지 관련 서비스 종사자 | 121                          |\n",
       "| 음식관련 단순 종사원         | 104                          |\n",
       "\n"
      ],
      "text/plain": [
       "   job                          n  \n",
       "1  작물재배 종사자              680\n",
       "2  청소원 및 환경 미화원        228\n",
       "3  매장 판매 종사자             221\n",
       "4  제조관련 단순 종사원         185\n",
       "5  회계 및 경리 사무원          176\n",
       "6  음식서비스 종사자            149\n",
       "7  주방장 및 조리사             126\n",
       "8  가사 및 육아 도우미          125\n",
       "9  의료 복지 관련 서비스 종사자 121\n",
       "10 음식관련 단순 종사원         104"
      ]
     },
     "metadata": {},
     "output_type": "display_data"
    }
   ],
   "source": [
    "# 여성 직업 빈도 상위 10개 추출\n",
    "job_female <- welfare  %>% \n",
    "    filter(!is.na(job) & sex == \"female\")  %>% \n",
    "    group_by(job)  %>% \n",
    "    summarise(n = n())  %>% \n",
    "    arrange(desc(n))  %>% \n",
    "    head(10)\n",
    "job_female"
   ]
  },
  {
   "cell_type": "code",
   "execution_count": 43,
   "metadata": {},
   "outputs": [
    {
     "data": {
      "image/png": "[encoded data removed]",
      "text/plain": [
       "plot without title"
      ]
     },
     "metadata": {},
     "output_type": "display_data"
    }
   ],
   "source": [
    "# 남성 직업 빈도 상위 10개 직업\n",
    "ggplot(data = job_male, aes(x = reorder(job, n), y = n)) +\n",
    "    geom_col() +\n",
    "    coord_flip()"
   ]
  },
  {
   "cell_type": "code",
   "execution_count": 44,
   "metadata": {},
   "outputs": [
    {
     "data": {
      "image/png": "[encoded data removed]",
      "text/plain": [
       "plot without title"
      ]
     },
     "metadata": {},
     "output_type": "display_data"
    }
   ],
   "source": [
    "# 여성 직업 빈도 상위 10개 직업\n",
    "ggplot(data = job_female, aes(x = reorder(job, n), y = n)) +\n",
    "    geom_col() +\n",
    "    coord_flip()"
   ]
  },
  {
   "cell_type": "markdown",
   "metadata": {},
   "source": [
    "# 종교 유무에 따른 이혼율"
   ]
  },
  {
   "cell_type": "markdown",
   "metadata": {},
   "source": [
    "## 1. 종교 변수 검토 및 전처리하기"
   ]
  },
  {
   "cell_type": "markdown",
   "metadata": {},
   "source": [
    "### 변수 검토하기"
   ]
  },
  {
   "cell_type": "code",
   "execution_count": 45,
   "metadata": {},
   "outputs": [
    {
     "data": {
      "text/html": [
       "'numeric'"
      ],
      "text/latex": [
       "'numeric'"
      ],
      "text/markdown": [
       "'numeric'"
      ],
      "text/plain": [
       "[1] \"numeric\""
      ]
     },
     "metadata": {},
     "output_type": "display_data"
    }
   ],
   "source": [
    "class(welfare$religion)"
   ]
  },
  {
   "cell_type": "code",
   "execution_count": 46,
   "metadata": {},
   "outputs": [
    {
     "data": {
      "text/plain": [
       "\n",
       "   1    2 \n",
       "8047 8617 "
      ]
     },
     "metadata": {},
     "output_type": "display_data"
    }
   ],
   "source": [
    "table(welfare$religion)"
   ]
  },
  {
   "cell_type": "markdown",
   "metadata": {},
   "source": [
    "### 전처리"
   ]
  },
  {
   "cell_type": "code",
   "execution_count": 47,
   "metadata": {},
   "outputs": [
    {
     "data": {
      "text/plain": [
       "\n",
       "  no  yes \n",
       "8617 8047 "
      ]
     },
     "metadata": {},
     "output_type": "display_data"
    }
   ],
   "source": [
    "# 종교 유무 이름 부여\n",
    "\n",
    "welfare$religion <- ifelse(welfare$religion == 1, \"yes\", \"no\")\n",
    "table(welfare$religion)"
   ]
  },
  {
   "cell_type": "code",
   "execution_count": 48,
   "metadata": {},
   "outputs": [
    {
     "data": {
      "image/png": "[encoded data removed]",
      "text/plain": [
       "plot without title"
      ]
     },
     "metadata": {},
     "output_type": "display_data"
    }
   ],
   "source": [
    "qplot(welfare$religion)"
   ]
  },
  {
   "cell_type": "markdown",
   "metadata": {},
   "source": [
    "## 2. 혼인 상태 변수 검토 및 전처리하기"
   ]
  },
  {
   "cell_type": "markdown",
   "metadata": {},
   "source": [
    "### 변수 검토하기"
   ]
  },
  {
   "cell_type": "code",
   "execution_count": 49,
   "metadata": {},
   "outputs": [
    {
     "data": {
      "text/html": [
       "'numeric'"
      ],
      "text/latex": [
       "'numeric'"
      ],
      "text/markdown": [
       "'numeric'"
      ],
      "text/plain": [
       "[1] \"numeric\""
      ]
     },
     "metadata": {},
     "output_type": "display_data"
    }
   ],
   "source": [
    "class(welfare$marriage)"
   ]
  },
  {
   "cell_type": "code",
   "execution_count": 50,
   "metadata": {},
   "outputs": [
    {
     "data": {
      "text/plain": [
       "\n",
       "   0    1    2    3    4    5    6 \n",
       "2861 8431 2117  712   84 2433   26 "
      ]
     },
     "metadata": {},
     "output_type": "display_data"
    }
   ],
   "source": [
    "table(welfare$marriage)"
   ]
  },
  {
   "cell_type": "code",
   "execution_count": 51,
   "metadata": {},
   "outputs": [
    {
     "data": {
      "text/plain": [
       "\n",
       " divorce marriage \n",
       "     712     8431 "
      ]
     },
     "metadata": {},
     "output_type": "display_data"
    }
   ],
   "source": [
    "# 이혼 여부 변수 만들기\n",
    "welfare$group_marriage <- ifelse(welfare$marriage == 1, \"marriage\",\n",
    "                                ifelse(welfare$marriage == 3, \"divorce\", NA))\n",
    "table(welfare$group_marriage)"
   ]
  },
  {
   "cell_type": "code",
   "execution_count": 52,
   "metadata": {},
   "outputs": [
    {
     "data": {
      "text/plain": [
       "\n",
       "FALSE  TRUE \n",
       " 9143  7521 "
      ]
     },
     "metadata": {},
     "output_type": "display_data"
    },
    {
     "data": {
      "image/png": "[encoded data removed]",
      "text/plain": [
       "plot without title"
      ]
     },
     "metadata": {},
     "output_type": "display_data"
    }
   ],
   "source": [
    "table(is.na(welfare$group_marriage))\n",
    "\n",
    "qplot(welfare$group_marriage)"
   ]
  },
  {
   "cell_type": "code",
   "execution_count": 53,
   "metadata": {},
   "outputs": [
    {
     "data": {
      "text/html": [
       "<table>\n",
       "<thead><tr><th scope=col>religion</th><th scope=col>group_marriage</th><th scope=col>n</th><th scope=col>tot_group</th><th scope=col>pct</th></tr></thead>\n",
       "<tbody>\n",
       "\t<tr><td>no      </td><td>divorce </td><td> 384    </td><td>4602    </td><td> 8.3    </td></tr>\n",
       "\t<tr><td>no      </td><td>marriage</td><td>4218    </td><td>4602    </td><td>91.7    </td></tr>\n",
       "\t<tr><td>yes     </td><td>divorce </td><td> 328    </td><td>4541    </td><td> 7.2    </td></tr>\n",
       "\t<tr><td>yes     </td><td>marriage</td><td>4213    </td><td>4541    </td><td>92.8    </td></tr>\n",
       "</tbody>\n",
       "</table>\n"
      ],
      "text/latex": [
       "\\begin{tabular}{r|lllll}\n",
       " religion & group\\_marriage & n & tot\\_group & pct\\\\\n",
       "\\hline\n",
       "\t no       & divorce  &  384     & 4602     &  8.3    \\\\\n",
       "\t no       & marriage & 4218     & 4602     & 91.7    \\\\\n",
       "\t yes      & divorce  &  328     & 4541     &  7.2    \\\\\n",
       "\t yes      & marriage & 4213     & 4541     & 92.8    \\\\\n",
       "\\end{tabular}\n"
      ],
      "text/markdown": [
       "\n",
       "| religion | group_marriage | n | tot_group | pct |\n",
       "|---|---|---|---|---|\n",
       "| no       | divorce  |  384     | 4602     |  8.3     |\n",
       "| no       | marriage | 4218     | 4602     | 91.7     |\n",
       "| yes      | divorce  |  328     | 4541     |  7.2     |\n",
       "| yes      | marriage | 4213     | 4541     | 92.8     |\n",
       "\n"
      ],
      "text/plain": [
       "  religion group_marriage n    tot_group pct \n",
       "1 no       divorce         384 4602       8.3\n",
       "2 no       marriage       4218 4602      91.7\n",
       "3 yes      divorce         328 4541       7.2\n",
       "4 yes      marriage       4213 4541      92.8"
      ]
     },
     "metadata": {},
     "output_type": "display_data"
    }
   ],
   "source": [
    "religion_marriage <- welfare  %>% \n",
    "    filter(!is.na(group_marriage))  %>% \n",
    "    group_by(religion, group_marriage)  %>% \n",
    "    summarise(n = n())  %>% \n",
    "    mutate(tot_group = sum(n)) %>% \n",
    "    mutate(pct = round(n/tot_group*100, 1))\n",
    "\n",
    "religion_marriage"
   ]
  },
  {
   "cell_type": "code",
   "execution_count": 54,
   "metadata": {},
   "outputs": [],
   "source": [
    "religion_marriage <- welfare  %>% \n",
    "    filter(!is.na(group_marriage))  %>%\n",
    "    count(religion, group_marriage)  %>% \n",
    "    group_by(religion)  %>% \n",
    "    mutate(pct = round(n/sum(n)*100, 1)) "
   ]
  },
  {
   "cell_type": "code",
   "execution_count": 55,
   "metadata": {},
   "outputs": [
    {
     "data": {
      "text/html": [
       "<table>\n",
       "<thead><tr><th scope=col>religion</th><th scope=col>pct</th></tr></thead>\n",
       "<tbody>\n",
       "\t<tr><td>no </td><td>8.3</td></tr>\n",
       "\t<tr><td>yes</td><td>7.2</td></tr>\n",
       "</tbody>\n",
       "</table>\n"
      ],
      "text/latex": [
       "\\begin{tabular}{r|ll}\n",
       " religion & pct\\\\\n",
       "\\hline\n",
       "\t no  & 8.3\\\\\n",
       "\t yes & 7.2\\\\\n",
       "\\end{tabular}\n"
      ],
      "text/markdown": [
       "\n",
       "| religion | pct |\n",
       "|---|---|\n",
       "| no  | 8.3 |\n",
       "| yes | 7.2 |\n",
       "\n"
      ],
      "text/plain": [
       "  religion pct\n",
       "1 no       8.3\n",
       "2 yes      7.2"
      ]
     },
     "metadata": {},
     "output_type": "display_data"
    }
   ],
   "source": [
    "# 이혼 추출\n",
    "divorce <- religion_marriage  %>% \n",
    "    filter(group_marriage == \"divorce\")  %>% \n",
    "    select(religion, pct)\n",
    "divorce"
   ]
  },
  {
   "cell_type": "code",
   "execution_count": 56,
   "metadata": {},
   "outputs": [
    {
     "data": {
      "image/png": "[encoded data removed]",
      "text/plain": [
       "plot without title"
      ]
     },
     "metadata": {},
     "output_type": "display_data"
    }
   ],
   "source": [
    "ggplot(data = divorce, aes(x = religion, y = pct)) + geom_col()"
   ]
  },
  {
   "cell_type": "markdown",
   "metadata": {},
   "source": [
    "## 3. 종교 유무에 따른 이혼율 분석하기"
   ]
  },
  {
   "cell_type": "markdown",
   "metadata": {},
   "source": [
    "### 1. 종교 유무에 따른 이혼율 표 만들기"
   ]
  },
  {
   "cell_type": "code",
   "execution_count": 57,
   "metadata": {},
   "outputs": [
    {
     "data": {
      "text/html": [
       "<table>\n",
       "<thead><tr><th scope=col>religion</th><th scope=col>group_marriage</th><th scope=col>n</th><th scope=col>tot_group</th><th scope=col>pct</th></tr></thead>\n",
       "<tbody>\n",
       "\t<tr><td>no      </td><td>divorce </td><td> 384    </td><td>4602    </td><td> 8.3    </td></tr>\n",
       "\t<tr><td>no      </td><td>marriage</td><td>4218    </td><td>4602    </td><td>91.7    </td></tr>\n",
       "\t<tr><td>yes     </td><td>divorce </td><td> 328    </td><td>4541    </td><td> 7.2    </td></tr>\n",
       "\t<tr><td>yes     </td><td>marriage</td><td>4213    </td><td>4541    </td><td>92.8    </td></tr>\n",
       "</tbody>\n",
       "</table>\n"
      ],
      "text/latex": [
       "\\begin{tabular}{r|lllll}\n",
       " religion & group\\_marriage & n & tot\\_group & pct\\\\\n",
       "\\hline\n",
       "\t no       & divorce  &  384     & 4602     &  8.3    \\\\\n",
       "\t no       & marriage & 4218     & 4602     & 91.7    \\\\\n",
       "\t yes      & divorce  &  328     & 4541     &  7.2    \\\\\n",
       "\t yes      & marriage & 4213     & 4541     & 92.8    \\\\\n",
       "\\end{tabular}\n"
      ],
      "text/markdown": [
       "\n",
       "| religion | group_marriage | n | tot_group | pct |\n",
       "|---|---|---|---|---|\n",
       "| no       | divorce  |  384     | 4602     |  8.3     |\n",
       "| no       | marriage | 4218     | 4602     | 91.7     |\n",
       "| yes      | divorce  |  328     | 4541     |  7.2     |\n",
       "| yes      | marriage | 4213     | 4541     | 92.8     |\n",
       "\n"
      ],
      "text/plain": [
       "  religion group_marriage n    tot_group pct \n",
       "1 no       divorce         384 4602       8.3\n",
       "2 no       marriage       4218 4602      91.7\n",
       "3 yes      divorce         328 4541       7.2\n",
       "4 yes      marriage       4213 4541      92.8"
      ]
     },
     "metadata": {},
     "output_type": "display_data"
    }
   ],
   "source": [
    "religion_marriage <- welfare  %>% \n",
    "    filter(!is.na(group_marriage))  %>% \n",
    "    group_by(religion, group_marriage)  %>% \n",
    "    summarise(n = n())  %>% \n",
    "    mutate(tot_group = sum(n))  %>% \n",
    "    mutate(pct = round(n/tot_group*100, 1))\n",
    "religion_marriage\n",
    "\n",
    "# count() 이용\n",
    "# religion_marriage <- welfare  %>% \n",
    "#     filter(!is.na(group_marriage))  %>%\n",
    "#     count(religion, group_marriage)\n",
    "#     group_by(religion, group_marriage)  %>% \n",
    "#     mutate(pct = round(n/tot_group*100, 1))\n",
    "# religion_marriag"
   ]
  },
  {
   "cell_type": "code",
   "execution_count": 58,
   "metadata": {},
   "outputs": [
    {
     "data": {
      "text/html": [
       "<table>\n",
       "<thead><tr><th scope=col>religion</th><th scope=col>pct</th></tr></thead>\n",
       "<tbody>\n",
       "\t<tr><td>no </td><td>8.3</td></tr>\n",
       "\t<tr><td>yes</td><td>7.2</td></tr>\n",
       "</tbody>\n",
       "</table>\n"
      ],
      "text/latex": [
       "\\begin{tabular}{r|ll}\n",
       " religion & pct\\\\\n",
       "\\hline\n",
       "\t no  & 8.3\\\\\n",
       "\t yes & 7.2\\\\\n",
       "\\end{tabular}\n"
      ],
      "text/markdown": [
       "\n",
       "| religion | pct |\n",
       "|---|---|\n",
       "| no  | 8.3 |\n",
       "| yes | 7.2 |\n",
       "\n"
      ],
      "text/plain": [
       "  religion pct\n",
       "1 no       8.3\n",
       "2 yes      7.2"
      ]
     },
     "metadata": {},
     "output_type": "display_data"
    }
   ],
   "source": [
    "# 이혼 추출\n",
    "divorce <- religion_marriage  %>% \n",
    "    filter(group_marriage == \"divorce\")  %>% \n",
    "    select(religion, pct)\n",
    "\n",
    "divorce"
   ]
  },
  {
   "cell_type": "markdown",
   "metadata": {},
   "source": [
    "### 그래프만들기"
   ]
  },
  {
   "cell_type": "code",
   "execution_count": 59,
   "metadata": {},
   "outputs": [
    {
     "data": {
      "image/png": "[encoded data removed]",
      "text/plain": [
       "plot without title"
      ]
     },
     "metadata": {},
     "output_type": "display_data"
    }
   ],
   "source": [
    "ggplot(data = divorce, aes(x = religion, y = pct)) + geom_col()\n"
   ]
  },
  {
   "cell_type": "markdown",
   "metadata": {},
   "source": [
    "## 4. 연령대 및 종교 유무에 따른 이혼율 분석하기"
   ]
  },
  {
   "cell_type": "markdown",
   "metadata": {},
   "source": [
    "### 1. 연령대별 이혼율 표 만들기"
   ]
  },
  {
   "cell_type": "code",
   "execution_count": 70,
   "metadata": {},
   "outputs": [],
   "source": [
    "ageg_marriage <- welfare  %>% \n",
    "    filter(!is.na(group_marriage))  %>% \n",
    "    group_by(ageg, group_marriage)  %>% \n",
    "    summarise(n = n())  %>% \n",
    "    mutate(tot_group = sum(n))  %>% \n",
    "    mutate(pct = round(n/tot_group*100, 1))\n",
    "\n",
    "# age_marriage <- welfare  %>% \n",
    "#     filter(!is.na(group_marriage))  %>%\n",
    "#     count(ageg, group_marriage)  %>% \n",
    "#     group_by(ageg, group_marriage)  %>% \n",
    "#     mutate(pct = round(n/tot_group*100, 1))\n",
    "\n"
   ]
  },
  {
   "cell_type": "code",
   "execution_count": 71,
   "metadata": {},
   "outputs": [
    {
     "data": {
      "text/html": [
       "<table>\n",
       "<thead><tr><th scope=col>ageg</th><th scope=col>pct</th></tr></thead>\n",
       "<tbody>\n",
       "\t<tr><td>middle</td><td>8.9   </td></tr>\n",
       "\t<tr><td>old   </td><td>6.6   </td></tr>\n",
       "</tbody>\n",
       "</table>\n"
      ],
      "text/latex": [
       "\\begin{tabular}{r|ll}\n",
       " ageg & pct\\\\\n",
       "\\hline\n",
       "\t middle & 8.9   \\\\\n",
       "\t old    & 6.6   \\\\\n",
       "\\end{tabular}\n"
      ],
      "text/markdown": [
       "\n",
       "| ageg | pct |\n",
       "|---|---|\n",
       "| middle | 8.9    |\n",
       "| old    | 6.6    |\n",
       "\n"
      ],
      "text/plain": [
       "  ageg   pct\n",
       "1 middle 8.9\n",
       "2 old    6.6"
      ]
     },
     "metadata": {},
     "output_type": "display_data"
    }
   ],
   "source": [
    "# 초년 제외, 이혼 추출\n",
    "\n",
    "ageg_divorce <- ageg_marriage  %>% \n",
    "    filter(ageg != \"young\" & group_marriage == \"divorce\")  %>% \n",
    "    select(ageg, pct)\n",
    "ageg_divorce"
   ]
  },
  {
   "cell_type": "code",
   "execution_count": 72,
   "metadata": {},
   "outputs": [
    {
     "data": {
      "image/png": "[encoded data removed]",
      "text/plain": [
       "plot without title"
      ]
     },
     "metadata": {},
     "output_type": "display_data"
    }
   ],
   "source": [
    "ggplot(data = ageg_divorce, aes(x = ageg, y = pct)) + geom_col()"
   ]
  },
  {
   "cell_type": "markdown",
   "metadata": {},
   "source": [
    "### 연령대 및 종교 유무에 따른 이혼율 표 만들기"
   ]
  },
  {
   "cell_type": "code",
   "execution_count": 76,
   "metadata": {},
   "outputs": [
    {
     "data": {
      "text/html": [
       "<table>\n",
       "<thead><tr><th scope=col>ageg</th><th scope=col>religion</th><th scope=col>group_marriage</th><th scope=col>n</th><th scope=col>tot_group</th><th scope=col>pct</th></tr></thead>\n",
       "<tbody>\n",
       "\t<tr><td>middle  </td><td>no      </td><td>divorce </td><td> 260    </td><td>2681    </td><td> 9.7    </td></tr>\n",
       "\t<tr><td>middle  </td><td>no      </td><td>marriage</td><td>2421    </td><td>2681    </td><td>90.3    </td></tr>\n",
       "\t<tr><td>middle  </td><td>yes     </td><td>divorce </td><td> 177    </td><td>2237    </td><td> 7.9    </td></tr>\n",
       "\t<tr><td>middle  </td><td>yes     </td><td>marriage</td><td>2060    </td><td>2237    </td><td>92.1    </td></tr>\n",
       "\t<tr><td>old     </td><td>no      </td><td>divorce </td><td> 123    </td><td>1884    </td><td> 6.5    </td></tr>\n",
       "\t<tr><td>old     </td><td>no      </td><td>marriage</td><td>1761    </td><td>1884    </td><td>93.5    </td></tr>\n",
       "\t<tr><td>old     </td><td>yes     </td><td>divorce </td><td> 150    </td><td>2281    </td><td> 6.6    </td></tr>\n",
       "\t<tr><td>old     </td><td>yes     </td><td>marriage</td><td>2131    </td><td>2281    </td><td>93.4    </td></tr>\n",
       "</tbody>\n",
       "</table>\n"
      ],
      "text/latex": [
       "\\begin{tabular}{r|llllll}\n",
       " ageg & religion & group\\_marriage & n & tot\\_group & pct\\\\\n",
       "\\hline\n",
       "\t middle   & no       & divorce  &  260     & 2681     &  9.7    \\\\\n",
       "\t middle   & no       & marriage & 2421     & 2681     & 90.3    \\\\\n",
       "\t middle   & yes      & divorce  &  177     & 2237     &  7.9    \\\\\n",
       "\t middle   & yes      & marriage & 2060     & 2237     & 92.1    \\\\\n",
       "\t old      & no       & divorce  &  123     & 1884     &  6.5    \\\\\n",
       "\t old      & no       & marriage & 1761     & 1884     & 93.5    \\\\\n",
       "\t old      & yes      & divorce  &  150     & 2281     &  6.6    \\\\\n",
       "\t old      & yes      & marriage & 2131     & 2281     & 93.4    \\\\\n",
       "\\end{tabular}\n"
      ],
      "text/markdown": [
       "\n",
       "| ageg | religion | group_marriage | n | tot_group | pct |\n",
       "|---|---|---|---|---|---|\n",
       "| middle   | no       | divorce  |  260     | 2681     |  9.7     |\n",
       "| middle   | no       | marriage | 2421     | 2681     | 90.3     |\n",
       "| middle   | yes      | divorce  |  177     | 2237     |  7.9     |\n",
       "| middle   | yes      | marriage | 2060     | 2237     | 92.1     |\n",
       "| old      | no       | divorce  |  123     | 1884     |  6.5     |\n",
       "| old      | no       | marriage | 1761     | 1884     | 93.5     |\n",
       "| old      | yes      | divorce  |  150     | 2281     |  6.6     |\n",
       "| old      | yes      | marriage | 2131     | 2281     | 93.4     |\n",
       "\n"
      ],
      "text/plain": [
       "  ageg   religion group_marriage n    tot_group pct \n",
       "1 middle no       divorce         260 2681       9.7\n",
       "2 middle no       marriage       2421 2681      90.3\n",
       "3 middle yes      divorce         177 2237       7.9\n",
       "4 middle yes      marriage       2060 2237      92.1\n",
       "5 old    no       divorce         123 1884       6.5\n",
       "6 old    no       marriage       1761 1884      93.5\n",
       "7 old    yes      divorce         150 2281       6.6\n",
       "8 old    yes      marriage       2131 2281      93.4"
      ]
     },
     "metadata": {},
     "output_type": "display_data"
    }
   ],
   "source": [
    "# 연령대, 종교 유무, 결혼 상태별 비율표 만들기\n",
    "\n",
    "ageg_religion_marriage <- welfare  %>% \n",
    "    filter(!is.na(group_marriage)  & ageg != \"young\")  %>% \n",
    "    group_by(ageg, religion, group_marriage)  %>% \n",
    "    summarise(n = n())  %>% \n",
    "    mutate(tot_group = sum(n))  %>% \n",
    "    mutate(pct = round(n/tot_group*100, 1))\n",
    "ageg_religion_marriage\n",
    "\n",
    "# ageg_religion_marriage <- welfare  %>% \n",
    "#     filter(!is.na(group_marriage)  & ageg != \"young\")  %>%\n",
    "#     count(ageg, religion, group_marriage)  %>% \n",
    "#     group_by(ageg, religion, group_marriage)  %>% \n",
    "#     mutate(pct = round(n/tot_group*100, 1))"
   ]
  },
  {
   "cell_type": "code",
   "execution_count": 77,
   "metadata": {},
   "outputs": [
    {
     "data": {
      "text/html": [
       "<table>\n",
       "<thead><tr><th scope=col>ageg</th><th scope=col>religion</th><th scope=col>pct</th></tr></thead>\n",
       "<tbody>\n",
       "\t<tr><td>middle</td><td>no    </td><td>9.7   </td></tr>\n",
       "\t<tr><td>middle</td><td>yes   </td><td>7.9   </td></tr>\n",
       "\t<tr><td>old   </td><td>no    </td><td>6.5   </td></tr>\n",
       "\t<tr><td>old   </td><td>yes   </td><td>6.6   </td></tr>\n",
       "</tbody>\n",
       "</table>\n"
      ],
      "text/latex": [
       "\\begin{tabular}{r|lll}\n",
       " ageg & religion & pct\\\\\n",
       "\\hline\n",
       "\t middle & no     & 9.7   \\\\\n",
       "\t middle & yes    & 7.9   \\\\\n",
       "\t old    & no     & 6.5   \\\\\n",
       "\t old    & yes    & 6.6   \\\\\n",
       "\\end{tabular}\n"
      ],
      "text/markdown": [
       "\n",
       "| ageg | religion | pct |\n",
       "|---|---|---|\n",
       "| middle | no     | 9.7    |\n",
       "| middle | yes    | 7.9    |\n",
       "| old    | no     | 6.5    |\n",
       "| old    | yes    | 6.6    |\n",
       "\n"
      ],
      "text/plain": [
       "  ageg   religion pct\n",
       "1 middle no       9.7\n",
       "2 middle yes      7.9\n",
       "3 old    no       6.5\n",
       "4 old    yes      6.6"
      ]
     },
     "metadata": {},
     "output_type": "display_data"
    }
   ],
   "source": [
    "# 연령대 및 종교 유무별 이혼율 표 만들기\n",
    "df_divorce <- ageg_religion_marriage  %>% \n",
    "    filter(group_marriage == \"divorce\")  %>% \n",
    "    select(ageg, religion, pct)\n",
    "df_divorce"
   ]
  },
  {
   "cell_type": "markdown",
   "metadata": {},
   "source": [
    "### 연령대 및 종교 유무에 따른 이혼율 그래프 "
   ]
  },
  {
   "cell_type": "code",
   "execution_count": 78,
   "metadata": {},
   "outputs": [
    {
     "data": {
      "image/png": "[encoded data removed]",
      "text/plain": [
       "plot without title"
      ]
     },
     "metadata": {},
     "output_type": "display_data"
    }
   ],
   "source": [
    "ggplot(data = df_divorce, aes(x = ageg, y = pct, fill = religion)) + geom_col(position = \"dodge\")"
   ]
  },
  {
   "cell_type": "markdown",
   "metadata": {},
   "source": [
    "## 지역별 연령대 비율"
   ]
  },
  {
   "cell_type": "code",
   "execution_count": 79,
   "metadata": {},
   "outputs": [
    {
     "data": {
      "text/html": [
       "'numeric'"
      ],
      "text/latex": [
       "'numeric'"
      ],
      "text/markdown": [
       "'numeric'"
      ],
      "text/plain": [
       "[1] \"numeric\""
      ]
     },
     "metadata": {},
     "output_type": "display_data"
    }
   ],
   "source": [
    "class(welfare$code_region)"
   ]
  },
  {
   "cell_type": "code",
   "execution_count": 80,
   "metadata": {},
   "outputs": [
    {
     "data": {
      "text/plain": [
       "\n",
       "   1    2    3    4    5    6    7 \n",
       "2486 3711 2785 2036 1467 1257 2922 "
      ]
     },
     "metadata": {},
     "output_type": "display_data"
    }
   ],
   "source": [
    "table(welfare$code_region)"
   ]
  },
  {
   "cell_type": "code",
   "execution_count": 81,
   "metadata": {},
   "outputs": [
    {
     "data": {
      "text/html": [
       "<table>\n",
       "<thead><tr><th scope=col>code_region</th><th scope=col>region</th></tr></thead>\n",
       "<tbody>\n",
       "\t<tr><td>1                    </td><td>서울                 </td></tr>\n",
       "\t<tr><td>2                    </td><td>수도권(인천/경기)    </td></tr>\n",
       "\t<tr><td>3                    </td><td>부산/경남/울산)      </td></tr>\n",
       "\t<tr><td>4                    </td><td>대구/경북            </td></tr>\n",
       "\t<tr><td>5                    </td><td>대전/충남            </td></tr>\n",
       "\t<tr><td>6                    </td><td>강원/충북            </td></tr>\n",
       "\t<tr><td>7                    </td><td>광주/전남/전북/제주도</td></tr>\n",
       "</tbody>\n",
       "</table>\n"
      ],
      "text/latex": [
       "\\begin{tabular}{r|ll}\n",
       " code\\_region & region\\\\\n",
       "\\hline\n",
       "\t 1                     & 서울                 \\\\\n",
       "\t 2                     & 수도권(인천/경기)    \\\\\n",
       "\t 3                     & 부산/경남/울산)      \\\\\n",
       "\t 4                     & 대구/경북            \\\\\n",
       "\t 5                     & 대전/충남            \\\\\n",
       "\t 6                     & 강원/충북            \\\\\n",
       "\t 7                     & 광주/전남/전북/제주도\\\\\n",
       "\\end{tabular}\n"
      ],
      "text/markdown": [
       "\n",
       "| code_region | region |\n",
       "|---|---|\n",
       "| 1                     | 서울                  |\n",
       "| 2                     | 수도권(인천/경기)     |\n",
       "| 3                     | 부산/경남/울산)       |\n",
       "| 4                     | 대구/경북             |\n",
       "| 5                     | 대전/충남             |\n",
       "| 6                     | 강원/충북             |\n",
       "| 7                     | 광주/전남/전북/제주도 |\n",
       "\n"
      ],
      "text/plain": [
       "  code_region region               \n",
       "1 1           서울                 \n",
       "2 2           수도권(인천/경기)    \n",
       "3 3           부산/경남/울산)      \n",
       "4 4           대구/경북            \n",
       "5 5           대전/충남            \n",
       "6 6           강원/충북            \n",
       "7 7           광주/전남/전북/제주도"
      ]
     },
     "metadata": {},
     "output_type": "display_data"
    }
   ],
   "source": [
    "# 지역 코드 목록 만들기\n",
    "list_region <- data.frame(code_region = c(1:7),\n",
    "                         region = c(\"서울\", \n",
    "                                   \"수도권(인천/경기)\",\n",
    "                                   \"부산/경남/울산)\",\n",
    "                                   \"대구/경북\",\n",
    "                                   \"대전/충남\",\n",
    "                                   \"강원/충북\",\n",
    "                                   \"광주/전남/전북/제주도\"))\n",
    "list_region                                  "
   ]
  },
  {
   "cell_type": "code",
   "execution_count": 82,
   "metadata": {},
   "outputs": [
    {
     "name": "stderr",
     "output_type": "stream",
     "text": [
      "Joining, by = \"code_region\"\n"
     ]
    },
    {
     "data": {
      "text/html": [
       "<table>\n",
       "<thead><tr><th scope=col>code_region</th><th scope=col>region</th></tr></thead>\n",
       "<tbody>\n",
       "\t<tr><td>1   </td><td>서울</td></tr>\n",
       "\t<tr><td>1   </td><td>서울</td></tr>\n",
       "\t<tr><td>1   </td><td>서울</td></tr>\n",
       "\t<tr><td>1   </td><td>서울</td></tr>\n",
       "\t<tr><td>1   </td><td>서울</td></tr>\n",
       "\t<tr><td>1   </td><td>서울</td></tr>\n",
       "</tbody>\n",
       "</table>\n"
      ],
      "text/latex": [
       "\\begin{tabular}{r|ll}\n",
       " code\\_region & region\\\\\n",
       "\\hline\n",
       "\t 1    & 서울\\\\\n",
       "\t 1    & 서울\\\\\n",
       "\t 1    & 서울\\\\\n",
       "\t 1    & 서울\\\\\n",
       "\t 1    & 서울\\\\\n",
       "\t 1    & 서울\\\\\n",
       "\\end{tabular}\n"
      ],
      "text/markdown": [
       "\n",
       "| code_region | region |\n",
       "|---|---|\n",
       "| 1    | 서울 |\n",
       "| 1    | 서울 |\n",
       "| 1    | 서울 |\n",
       "| 1    | 서울 |\n",
       "| 1    | 서울 |\n",
       "| 1    | 서울 |\n",
       "\n"
      ],
      "text/plain": [
       "  code_region region\n",
       "1 1           서울  \n",
       "2 1           서울  \n",
       "3 1           서울  \n",
       "4 1           서울  \n",
       "5 1           서울  \n",
       "6 1           서울  "
      ]
     },
     "metadata": {},
     "output_type": "display_data"
    }
   ],
   "source": [
    "# 지역명 변수 추가\n",
    "welfare <- left_join(welfare, list_region, id=\"code_region\")\n",
    "\n",
    "welfare  %>% \n",
    "    select(code_region, region)  %>% \n",
    "    head"
   ]
  },
  {
   "cell_type": "markdown",
   "metadata": {},
   "source": [
    "## 지역별 연령대 비율 분석하기"
   ]
  },
  {
   "cell_type": "markdown",
   "metadata": {},
   "source": [
    "### 지역별 연령대 비율표"
   ]
  },
  {
   "cell_type": "code",
   "execution_count": 84,
   "metadata": {},
   "outputs": [
    {
     "data": {
      "text/html": [
       "<table>\n",
       "<thead><tr><th scope=col>region</th><th scope=col>ageg</th><th scope=col>n</th><th scope=col>tot_group</th><th scope=col>pct</th></tr></thead>\n",
       "<tbody>\n",
       "\t<tr><td>강원/충북            </td><td>middle               </td><td> 417                 </td><td>1257                 </td><td>33.17                </td></tr>\n",
       "\t<tr><td>강원/충북            </td><td>old                  </td><td> 555                 </td><td>1257                 </td><td>44.15                </td></tr>\n",
       "\t<tr><td>강원/충북            </td><td>young                </td><td> 285                 </td><td>1257                 </td><td>22.67                </td></tr>\n",
       "\t<tr><td>광주/전남/전북/제주도</td><td>middle               </td><td> 947                 </td><td>2922                 </td><td>32.41                </td></tr>\n",
       "\t<tr><td>광주/전남/전북/제주도</td><td>old                  </td><td>1233                 </td><td>2922                 </td><td>42.20                </td></tr>\n",
       "\t<tr><td>광주/전남/전북/제주도</td><td>young                </td><td> 742                 </td><td>2922                 </td><td>25.39                </td></tr>\n",
       "</tbody>\n",
       "</table>\n"
      ],
      "text/latex": [
       "\\begin{tabular}{r|lllll}\n",
       " region & ageg & n & tot\\_group & pct\\\\\n",
       "\\hline\n",
       "\t 강원/충북             & middle                &  417                  & 1257                  & 33.17                \\\\\n",
       "\t 강원/충북             & old                   &  555                  & 1257                  & 44.15                \\\\\n",
       "\t 강원/충북             & young                 &  285                  & 1257                  & 22.67                \\\\\n",
       "\t 광주/전남/전북/제주도 & middle                &  947                  & 2922                  & 32.41                \\\\\n",
       "\t 광주/전남/전북/제주도 & old                   & 1233                  & 2922                  & 42.20                \\\\\n",
       "\t 광주/전남/전북/제주도 & young                 &  742                  & 2922                  & 25.39                \\\\\n",
       "\\end{tabular}\n"
      ],
      "text/markdown": [
       "\n",
       "| region | ageg | n | tot_group | pct |\n",
       "|---|---|---|---|---|\n",
       "| 강원/충북             | middle                |  417                  | 1257                  | 33.17                 |\n",
       "| 강원/충북             | old                   |  555                  | 1257                  | 44.15                 |\n",
       "| 강원/충북             | young                 |  285                  | 1257                  | 22.67                 |\n",
       "| 광주/전남/전북/제주도 | middle                |  947                  | 2922                  | 32.41                 |\n",
       "| 광주/전남/전북/제주도 | old                   | 1233                  | 2922                  | 42.20                 |\n",
       "| 광주/전남/전북/제주도 | young                 |  742                  | 2922                  | 25.39                 |\n",
       "\n"
      ],
      "text/plain": [
       "  region                ageg   n    tot_group pct  \n",
       "1 강원/충북             middle  417 1257      33.17\n",
       "2 강원/충북             old     555 1257      44.15\n",
       "3 강원/충북             young   285 1257      22.67\n",
       "4 광주/전남/전북/제주도 middle  947 2922      32.41\n",
       "5 광주/전남/전북/제주도 old    1233 2922      42.20\n",
       "6 광주/전남/전북/제주도 young   742 2922      25.39"
      ]
     },
     "metadata": {},
     "output_type": "display_data"
    }
   ],
   "source": [
    "region_ageg <- welfare  %>% \n",
    "    group_by(region, ageg)  %>% \n",
    "    summarise(n = n())  %>% \n",
    "    mutate(tot_group = sum(n))  %>% \n",
    "    mutate(pct = round(n/tot_group*100, 2))\n",
    "head(region_ageg)"
   ]
  },
  {
   "cell_type": "code",
   "execution_count": 85,
   "metadata": {},
   "outputs": [],
   "source": [
    "region_ageg <- welfare  %>% \n",
    "    count(region, ageg)  %>% \n",
    "    group_by(region)  %>% \n",
    "    mutate(pct = round(n/sum(n)*100, 2))"
   ]
  },
  {
   "cell_type": "code",
   "execution_count": 86,
   "metadata": {},
   "outputs": [
    {
     "data": {
      "image/png": "[encoded data removed]",
      "text/plain": [
       "plot without title"
      ]
     },
     "metadata": {},
     "output_type": "display_data"
    }
   ],
   "source": [
    "ggplot(data=region_ageg, aes(x = region, y = pct, fill = ageg)) + \n",
    "    geom_col() +\n",
    "    coord_flip()"
   ]
  },
  {
   "cell_type": "markdown",
   "metadata": {},
   "source": [
    "### 노년층 비율 높은 순으로 막대 정렬하기\n"
   ]
  },
  {
   "cell_type": "code",
   "execution_count": 88,
   "metadata": {},
   "outputs": [
    {
     "data": {
      "text/html": [
       "<table>\n",
       "<thead><tr><th scope=col>region</th><th scope=col>ageg</th><th scope=col>n</th><th scope=col>pct</th></tr></thead>\n",
       "<tbody>\n",
       "\t<tr><td>수도권(인천/경기)    </td><td>old                  </td><td>1109                 </td><td>29.88                </td></tr>\n",
       "\t<tr><td>서울                 </td><td>old                  </td><td> 805                 </td><td>32.38                </td></tr>\n",
       "\t<tr><td>대전/충남            </td><td>old                  </td><td> 527                 </td><td>35.92                </td></tr>\n",
       "\t<tr><td>부산/경남/울산)      </td><td>old                  </td><td>1124                 </td><td>40.36                </td></tr>\n",
       "\t<tr><td>광주/전남/전북/제주도</td><td>old                  </td><td>1233                 </td><td>42.20                </td></tr>\n",
       "\t<tr><td>강원/충북            </td><td>old                  </td><td> 555                 </td><td>44.15                </td></tr>\n",
       "\t<tr><td>대구/경북            </td><td>old                  </td><td> 928                 </td><td>45.58                </td></tr>\n",
       "</tbody>\n",
       "</table>\n"
      ],
      "text/latex": [
       "\\begin{tabular}{r|llll}\n",
       " region & ageg & n & pct\\\\\n",
       "\\hline\n",
       "\t 수도권(인천/경기)     & old                   & 1109                  & 29.88                \\\\\n",
       "\t 서울                  & old                   &  805                  & 32.38                \\\\\n",
       "\t 대전/충남             & old                   &  527                  & 35.92                \\\\\n",
       "\t 부산/경남/울산)       & old                   & 1124                  & 40.36                \\\\\n",
       "\t 광주/전남/전북/제주도 & old                   & 1233                  & 42.20                \\\\\n",
       "\t 강원/충북             & old                   &  555                  & 44.15                \\\\\n",
       "\t 대구/경북             & old                   &  928                  & 45.58                \\\\\n",
       "\\end{tabular}\n"
      ],
      "text/markdown": [
       "\n",
       "| region | ageg | n | pct |\n",
       "|---|---|---|---|\n",
       "| 수도권(인천/경기)     | old                   | 1109                  | 29.88                 |\n",
       "| 서울                  | old                   |  805                  | 32.38                 |\n",
       "| 대전/충남             | old                   |  527                  | 35.92                 |\n",
       "| 부산/경남/울산)       | old                   | 1124                  | 40.36                 |\n",
       "| 광주/전남/전북/제주도 | old                   | 1233                  | 42.20                 |\n",
       "| 강원/충북             | old                   |  555                  | 44.15                 |\n",
       "| 대구/경북             | old                   |  928                  | 45.58                 |\n",
       "\n"
      ],
      "text/plain": [
       "  region                ageg n    pct  \n",
       "1 수도권(인천/경기)     old  1109 29.88\n",
       "2 서울                  old   805 32.38\n",
       "3 대전/충남             old   527 35.92\n",
       "4 부산/경남/울산)       old  1124 40.36\n",
       "5 광주/전남/전북/제주도 old  1233 42.20\n",
       "6 강원/충북             old   555 44.15\n",
       "7 대구/경북             old   928 45.58"
      ]
     },
     "metadata": {},
     "output_type": "display_data"
    }
   ],
   "source": [
    "# 노년층 비율 내림차순 정렬\n",
    "list_order_old <- region_ageg  %>% \n",
    "    filter(ageg == \"old\")  %>% \n",
    "    arrange(pct)\n",
    "list_order_old"
   ]
  },
  {
   "cell_type": "code",
   "execution_count": 89,
   "metadata": {},
   "outputs": [
    {
     "data": {
      "text/html": [
       "<ol class=list-inline>\n",
       "\t<li>수도권(인천/경기)</li>\n",
       "\t<li>서울</li>\n",
       "\t<li>대전/충남</li>\n",
       "\t<li>부산/경남/울산)</li>\n",
       "\t<li>광주/전남/전북/제주도</li>\n",
       "\t<li>강원/충북</li>\n",
       "\t<li>대구/경북</li>\n",
       "</ol>\n",
       "\n",
       "<details>\n",
       "\t<summary style=display:list-item;cursor:pointer>\n",
       "\t\t<strong>Levels</strong>:\n",
       "\t</summary>\n",
       "\t<ol class=list-inline>\n",
       "\t\t<li>'강원/충북'</li>\n",
       "\t\t<li>'광주/전남/전북/제주도'</li>\n",
       "\t\t<li>'대구/경북'</li>\n",
       "\t\t<li>'대전/충남'</li>\n",
       "\t\t<li>'부산/경남/울산)'</li>\n",
       "\t\t<li>'서울'</li>\n",
       "\t\t<li>'수도권(인천/경기)'</li>\n",
       "\t</ol>\n",
       "</details>"
      ],
      "text/latex": [
       "\\begin{enumerate*}\n",
       "\\item 수도권(인천/경기)\n",
       "\\item 서울\n",
       "\\item 대전/충남\n",
       "\\item 부산/경남/울산)\n",
       "\\item 광주/전남/전북/제주도\n",
       "\\item 강원/충북\n",
       "\\item 대구/경북\n",
       "\\end{enumerate*}\n",
       "\n",
       "\\emph{Levels}: \\begin{enumerate*}\n",
       "\\item '강원/충북'\n",
       "\\item '광주/전남/전북/제주도'\n",
       "\\item '대구/경북'\n",
       "\\item '대전/충남'\n",
       "\\item '부산/경남/울산)'\n",
       "\\item '서울'\n",
       "\\item '수도권(인천/경기)'\n",
       "\\end{enumerate*}\n"
      ],
      "text/markdown": [
       "1. 수도권(인천/경기)\n",
       "2. 서울\n",
       "3. 대전/충남\n",
       "4. 부산/경남/울산)\n",
       "5. 광주/전남/전북/제주도\n",
       "6. 강원/충북\n",
       "7. 대구/경북\n",
       "\n",
       "\n",
       "\n",
       "**Levels**: 1. '강원/충북'\n",
       "2. '광주/전남/전북/제주도'\n",
       "3. '대구/경북'\n",
       "4. '대전/충남'\n",
       "5. '부산/경남/울산)'\n",
       "6. '서울'\n",
       "7. '수도권(인천/경기)'\n",
       "\n",
       "\n"
      ],
      "text/plain": [
       "[1] 수도권(인천/경기)     서울                  대전/충남            \n",
       "[4] 부산/경남/울산)       광주/전남/전북/제주도 강원/충북            \n",
       "[7] 대구/경북            \n",
       "7 Levels: 강원/충북 광주/전남/전북/제주도 대구/경북 ... 수도권(인천/경기)"
      ]
     },
     "metadata": {},
     "output_type": "display_data"
    }
   ],
   "source": [
    "# 지역명 순서 변수 만들기\n",
    "order <- list_order_old$region\n",
    "order"
   ]
  },
  {
   "cell_type": "code",
   "execution_count": 91,
   "metadata": {},
   "outputs": [
    {
     "data": {
      "image/png": "[encoded data removed]",
      "text/plain": [
       "plot without title"
      ]
     },
     "metadata": {},
     "output_type": "display_data"
    }
   ],
   "source": [
    "ggplot(data = region_ageg, aes(x = region, y = pct, fill = ageg)) + \n",
    "    geom_col() +\n",
    "    coord_flip() +\n",
    "    scale_x_discrete(limits = order)\n"
   ]
  },
  {
   "cell_type": "markdown",
   "metadata": {},
   "source": [
    "### 연령대순으로 막대 색깔 나열하기"
   ]
  },
  {
   "cell_type": "code",
   "execution_count": 93,
   "metadata": {},
   "outputs": [
    {
     "data": {
      "text/html": [
       "'character'"
      ],
      "text/latex": [
       "'character'"
      ],
      "text/markdown": [
       "'character'"
      ],
      "text/plain": [
       "[1] \"character\""
      ]
     },
     "metadata": {},
     "output_type": "display_data"
    }
   ],
   "source": [
    "class(region_ageg$ageg)"
   ]
  },
  {
   "cell_type": "code",
   "execution_count": 95,
   "metadata": {},
   "outputs": [
    {
     "data": {
      "text/html": [
       "'factor'"
      ],
      "text/latex": [
       "'factor'"
      ],
      "text/markdown": [
       "'factor'"
      ],
      "text/plain": [
       "[1] \"factor\""
      ]
     },
     "metadata": {},
     "output_type": "display_data"
    }
   ],
   "source": [
    "region_ageg$ageg <- factor(region_ageg$ageg, \n",
    "                         level = c(\"old\", \"middle\", \"young\"))\n",
    "\n",
    "class(region_ageg$ageg)"
   ]
  },
  {
   "cell_type": "code",
   "execution_count": 96,
   "metadata": {},
   "outputs": [
    {
     "data": {
      "text/html": [
       "<ol class=list-inline>\n",
       "\t<li>'old'</li>\n",
       "\t<li>'middle'</li>\n",
       "\t<li>'young'</li>\n",
       "</ol>\n"
      ],
      "text/latex": [
       "\\begin{enumerate*}\n",
       "\\item 'old'\n",
       "\\item 'middle'\n",
       "\\item 'young'\n",
       "\\end{enumerate*}\n"
      ],
      "text/markdown": [
       "1. 'old'\n",
       "2. 'middle'\n",
       "3. 'young'\n",
       "\n",
       "\n"
      ],
      "text/plain": [
       "[1] \"old\"    \"middle\" \"young\" "
      ]
     },
     "metadata": {},
     "output_type": "display_data"
    }
   ],
   "source": [
    "levels(region_ageg$ageg)"
   ]
  },
  {
   "cell_type": "code",
   "execution_count": 98,
   "metadata": {},
   "outputs": [
    {
     "data": {
      "image/png": "[encoded data removed]",
      "text/plain": [
       "plot without title"
      ]
     },
     "metadata": {},
     "output_type": "display_data"
    }
   ],
   "source": [
    "ggplot(data = region_ageg, aes(x = region, y = pct, fill = ageg)) + \n",
    "    geom_col() +\n",
    "    coord_flip() +\n",
    "    scale_x_discrete(limits = order)"
   ]
  },
  {
   "cell_type": "code",
   "execution_count": null,
   "metadata": {},
   "outputs": [],
   "source": []
  }
 ],
 "metadata": {
  "kernelspec": {
   "display_name": "R",
   "language": "R",
   "name": "ir"
  },
  "language_info": {
   "codemirror_mode": "r",
   "file_extension": ".r",
   "mimetype": "text/x-r-source",
   "name": "R",
   "pygments_lexer": "r",
   "version": "3.6.1"
  }
 },
 "nbformat": 4,
 "nbformat_minor": 4
}
